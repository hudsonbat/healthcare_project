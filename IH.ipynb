{
 "cells": [
  {
   "cell_type": "markdown",
   "metadata": {},
   "source": [
    "# **Annual Screening Completion Rate**"
   ]
  },
  {
   "cell_type": "markdown",
   "metadata": {},
   "source": [
    "## Part 1: Data Cleaning, Feature Engineering, & Feature Selection/Extraction"
   ]
  },
  {
   "cell_type": "code",
   "execution_count": 92,
   "metadata": {},
   "outputs": [],
   "source": [
    "# Import packages/modules for data processing\n",
    "import pandas as pd\n",
    "import numpy as np\n",
    "from collections import defaultdict\n",
    "import copy\n",
    "np.random.seed(4)\n",
    "import random\n",
    "import re\n",
    "import string\n",
    "import os\n",
    "from datetime import datetime, date\n",
    "\n",
    "# import packages/modules for plotting/data viz\n",
    "import matplotlib.pyplot as plt\n",
    "import matplotlib.ticker as ticker\n",
    "plt.style.use('ggplot')\n",
    "import seaborn as sns\n",
    "\n",
    "# import packages/modules for modelling\n",
    "import sklearn\n",
    "from skfeature.function.similarity_based import fisher_score\n",
    "from sklearn import preprocessing\n",
    "from sklearn.preprocessing import StandardScaler, MinMaxScaler\n",
    "from sklearn.dummy import DummyClassifier\n",
    "from mlxtend.feature_selection import SequentialFeatureSelector\n",
    "from sklearn.feature_selection import SelectFromModel, mutual_info_classif, chi2\n",
    "from sklearn.metrics import log_loss, precision_recall_curve, average_precision_score, recall_score, precision_score, roc_auc_score, accuracy_score, classification_report, confusion_matrix\n",
    "from sklearn.metrics import plot_confusion_matrix as plot_cm, roc_curve, auc, f1_score, precision_score, plot_roc_curve\n",
    "from sklearn.model_selection import train_test_split, cross_val_score, RepeatedStratifiedKFold,RandomizedSearchCV, KFold\n",
    "from sklearn.linear_model import LogisticRegression\n",
    "from sklearn.ensemble import RandomForestClassifier\n",
    "from sklearn.naive_bayes import GaussianNB\n",
    "from sklearn import svm\n",
    "from sklearn.svm import LinearSVC\n",
    "from xgboost import XGBClassifier\n",
    "from lightgbm import LGBMClassifier\n",
    "import imblearn\n",
    "from imblearn.over_sampling import SMOTE\n",
    "from imblearn.under_sampling import RandomUnderSampler\n",
    "import itertools\n",
    "from itertools import cycle\n",
    "import scipy\n",
    "from scipy import interp\n",
    "from scipy.stats import loguniform, reciprocal, uniform, shapiro\n",
    "import statsmodels"
   ]
  },
  {
   "cell_type": "code",
   "execution_count": 93,
   "metadata": {},
   "outputs": [],
   "source": [
    "os.chdir('/Users/hudsonfinchbatista/Desktop/')\n",
    "members = pd.read_csv('MemberInfo.csv')\n",
    "records = pd.read_csv('Record.csv')"
   ]
  },
  {
   "cell_type": "code",
   "execution_count": 94,
   "metadata": {},
   "outputs": [
    {
     "name": "stdout",
     "output_type": "stream",
     "text": [
      "<class 'pandas.core.frame.DataFrame'>\n",
      "RangeIndex: 92377 entries, 0 to 92376\n",
      "Data columns (total 1 columns):\n",
      " #   Column     Non-Null Count  Dtype\n",
      "---  ------     --------------  -----\n",
      " 0   MEMBER_ID  92377 non-null  int64\n",
      "dtypes: int64(1)\n",
      "memory usage: 721.8 KB\n"
     ]
    }
   ],
   "source": [
    "members.info()"
   ]
  },
  {
   "cell_type": "code",
   "execution_count": 95,
   "metadata": {},
   "outputs": [
    {
     "data": {
      "text/html": [
       "<div>\n",
       "<style scoped>\n",
       "    .dataframe tbody tr th:only-of-type {\n",
       "        vertical-align: middle;\n",
       "    }\n",
       "\n",
       "    .dataframe tbody tr th {\n",
       "        vertical-align: top;\n",
       "    }\n",
       "\n",
       "    .dataframe thead th {\n",
       "        text-align: right;\n",
       "    }\n",
       "</style>\n",
       "<table border=\"1\" class=\"dataframe\">\n",
       "  <thead>\n",
       "    <tr style=\"text-align: right;\">\n",
       "      <th></th>\n",
       "      <th>MEMBER_ID</th>\n",
       "    </tr>\n",
       "  </thead>\n",
       "  <tbody>\n",
       "    <tr>\n",
       "      <th>0</th>\n",
       "      <td>16719</td>\n",
       "    </tr>\n",
       "    <tr>\n",
       "      <th>1</th>\n",
       "      <td>85454</td>\n",
       "    </tr>\n",
       "    <tr>\n",
       "      <th>2</th>\n",
       "      <td>81899</td>\n",
       "    </tr>\n",
       "    <tr>\n",
       "      <th>3</th>\n",
       "      <td>91194</td>\n",
       "    </tr>\n",
       "    <tr>\n",
       "      <th>4</th>\n",
       "      <td>87518</td>\n",
       "    </tr>\n",
       "  </tbody>\n",
       "</table>\n",
       "</div>"
      ],
      "text/plain": [
       "   MEMBER_ID\n",
       "0      16719\n",
       "1      85454\n",
       "2      81899\n",
       "3      91194\n",
       "4      87518"
      ]
     },
     "execution_count": 95,
     "metadata": {},
     "output_type": "execute_result"
    }
   ],
   "source": [
    "members.head()"
   ]
  },
  {
   "cell_type": "code",
   "execution_count": 96,
   "metadata": {},
   "outputs": [],
   "source": [
    "members.columns = members.columns.str.lower()"
   ]
  },
  {
   "cell_type": "code",
   "execution_count": 97,
   "metadata": {},
   "outputs": [
    {
     "name": "stdout",
     "output_type": "stream",
     "text": [
      "<class 'pandas.core.frame.DataFrame'>\n",
      "RangeIndex: 71842 entries, 0 to 71841\n",
      "Columns: 103 entries, MEMBER_ID to Q33_PROGRAMS_AVAIL\n",
      "dtypes: float64(98), int64(1), object(4)\n",
      "memory usage: 56.5+ MB\n"
     ]
    }
   ],
   "source": [
    "records.info()"
   ]
  },
  {
   "cell_type": "code",
   "execution_count": 98,
   "metadata": {},
   "outputs": [
    {
     "data": {
      "text/html": [
       "<div>\n",
       "<style scoped>\n",
       "    .dataframe tbody tr th:only-of-type {\n",
       "        vertical-align: middle;\n",
       "    }\n",
       "\n",
       "    .dataframe tbody tr th {\n",
       "        vertical-align: top;\n",
       "    }\n",
       "\n",
       "    .dataframe thead th {\n",
       "        text-align: right;\n",
       "    }\n",
       "</style>\n",
       "<table border=\"1\" class=\"dataframe\">\n",
       "  <thead>\n",
       "    <tr style=\"text-align: right;\">\n",
       "      <th></th>\n",
       "      <th>MEMBER_ID</th>\n",
       "      <th>SURVEY_DATE</th>\n",
       "      <th>COMP_FORM</th>\n",
       "      <th>DATE_OF_BIRTH</th>\n",
       "      <th>GENDER</th>\n",
       "      <th>RACE</th>\n",
       "      <th>HISPANIC_LATIO</th>\n",
       "      <th>LANGUAGE</th>\n",
       "      <th>HEIGHT</th>\n",
       "      <th>WEIGHT</th>\n",
       "      <th>...</th>\n",
       "      <th>Q30_CARE_PAST_30_1</th>\n",
       "      <th>Q30_CARE_PAST_30_2</th>\n",
       "      <th>Q30_CARE_PAST_30_3</th>\n",
       "      <th>Q30_CARE_PAST_30_4</th>\n",
       "      <th>Q30_CARE_PAST_30_5</th>\n",
       "      <th>Q30_CARE_PAST_30_6</th>\n",
       "      <th>Q30_CARE_PAST_30_7</th>\n",
       "      <th>Q31_TREAT_CHANGES</th>\n",
       "      <th>Q32_PAIN_SCALE</th>\n",
       "      <th>Q33_PROGRAMS_AVAIL</th>\n",
       "    </tr>\n",
       "  </thead>\n",
       "  <tbody>\n",
       "    <tr>\n",
       "      <th>0</th>\n",
       "      <td>6</td>\n",
       "      <td>4/11/2019</td>\n",
       "      <td>4.0</td>\n",
       "      <td>23-Sep-59</td>\n",
       "      <td>2.0</td>\n",
       "      <td>1.0</td>\n",
       "      <td>1.0</td>\n",
       "      <td>1.0</td>\n",
       "      <td>64</td>\n",
       "      <td>117</td>\n",
       "      <td>...</td>\n",
       "      <td>1.0</td>\n",
       "      <td>1.0</td>\n",
       "      <td>1.0</td>\n",
       "      <td>1.0</td>\n",
       "      <td>NaN</td>\n",
       "      <td>NaN</td>\n",
       "      <td>NaN</td>\n",
       "      <td>2.0</td>\n",
       "      <td>1.0</td>\n",
       "      <td>NaN</td>\n",
       "    </tr>\n",
       "    <tr>\n",
       "      <th>1</th>\n",
       "      <td>8</td>\n",
       "      <td>3/8/2019</td>\n",
       "      <td>1.0</td>\n",
       "      <td>3-May-52</td>\n",
       "      <td>2.0</td>\n",
       "      <td>NaN</td>\n",
       "      <td>NaN</td>\n",
       "      <td>1.0</td>\n",
       "      <td>NaN</td>\n",
       "      <td>NaN</td>\n",
       "      <td>...</td>\n",
       "      <td>1.0</td>\n",
       "      <td>NaN</td>\n",
       "      <td>NaN</td>\n",
       "      <td>NaN</td>\n",
       "      <td>NaN</td>\n",
       "      <td>NaN</td>\n",
       "      <td>NaN</td>\n",
       "      <td>NaN</td>\n",
       "      <td>NaN</td>\n",
       "      <td>0.0</td>\n",
       "    </tr>\n",
       "    <tr>\n",
       "      <th>2</th>\n",
       "      <td>11</td>\n",
       "      <td>5/13/2019</td>\n",
       "      <td>1.0</td>\n",
       "      <td>18-Mar-65</td>\n",
       "      <td>2.0</td>\n",
       "      <td>1.0</td>\n",
       "      <td>1.0</td>\n",
       "      <td>1.0</td>\n",
       "      <td>5'1</td>\n",
       "      <td>144</td>\n",
       "      <td>...</td>\n",
       "      <td>1.0</td>\n",
       "      <td>NaN</td>\n",
       "      <td>NaN</td>\n",
       "      <td>NaN</td>\n",
       "      <td>NaN</td>\n",
       "      <td>NaN</td>\n",
       "      <td>NaN</td>\n",
       "      <td>1.0</td>\n",
       "      <td>1.0</td>\n",
       "      <td>1.0</td>\n",
       "    </tr>\n",
       "    <tr>\n",
       "      <th>3</th>\n",
       "      <td>11</td>\n",
       "      <td>12/5/2019</td>\n",
       "      <td>1.0</td>\n",
       "      <td>18-Mar-65</td>\n",
       "      <td>2.0</td>\n",
       "      <td>1.0</td>\n",
       "      <td>1.0</td>\n",
       "      <td>1.0</td>\n",
       "      <td>NaN</td>\n",
       "      <td>NaN</td>\n",
       "      <td>...</td>\n",
       "      <td>NaN</td>\n",
       "      <td>NaN</td>\n",
       "      <td>NaN</td>\n",
       "      <td>NaN</td>\n",
       "      <td>NaN</td>\n",
       "      <td>NaN</td>\n",
       "      <td>1.0</td>\n",
       "      <td>1.0</td>\n",
       "      <td>NaN</td>\n",
       "      <td>0.0</td>\n",
       "    </tr>\n",
       "    <tr>\n",
       "      <th>4</th>\n",
       "      <td>12</td>\n",
       "      <td>10/22/2019</td>\n",
       "      <td>1.0</td>\n",
       "      <td>6-Aug-59</td>\n",
       "      <td>2.0</td>\n",
       "      <td>1.0</td>\n",
       "      <td>1.0</td>\n",
       "      <td>1.0</td>\n",
       "      <td>NaN</td>\n",
       "      <td>NaN</td>\n",
       "      <td>...</td>\n",
       "      <td>1.0</td>\n",
       "      <td>1.0</td>\n",
       "      <td>NaN</td>\n",
       "      <td>NaN</td>\n",
       "      <td>NaN</td>\n",
       "      <td>NaN</td>\n",
       "      <td>NaN</td>\n",
       "      <td>2.0</td>\n",
       "      <td>NaN</td>\n",
       "      <td>NaN</td>\n",
       "    </tr>\n",
       "  </tbody>\n",
       "</table>\n",
       "<p>5 rows × 103 columns</p>\n",
       "</div>"
      ],
      "text/plain": [
       "   MEMBER_ID SURVEY_DATE  COMP_FORM DATE_OF_BIRTH  GENDER  RACE  \\\n",
       "0          6   4/11/2019        4.0     23-Sep-59     2.0   1.0   \n",
       "1          8    3/8/2019        1.0      3-May-52     2.0   NaN   \n",
       "2         11   5/13/2019        1.0     18-Mar-65     2.0   1.0   \n",
       "3         11   12/5/2019        1.0     18-Mar-65     2.0   1.0   \n",
       "4         12  10/22/2019        1.0      6-Aug-59     2.0   1.0   \n",
       "\n",
       "   HISPANIC_LATIO  LANGUAGE HEIGHT WEIGHT  ...  Q30_CARE_PAST_30_1  \\\n",
       "0             1.0       1.0     64    117  ...                 1.0   \n",
       "1             NaN       1.0    NaN    NaN  ...                 1.0   \n",
       "2             1.0       1.0    5'1    144  ...                 1.0   \n",
       "3             1.0       1.0    NaN    NaN  ...                 NaN   \n",
       "4             1.0       1.0    NaN    NaN  ...                 1.0   \n",
       "\n",
       "   Q30_CARE_PAST_30_2  Q30_CARE_PAST_30_3  Q30_CARE_PAST_30_4  \\\n",
       "0                 1.0                 1.0                 1.0   \n",
       "1                 NaN                 NaN                 NaN   \n",
       "2                 NaN                 NaN                 NaN   \n",
       "3                 NaN                 NaN                 NaN   \n",
       "4                 1.0                 NaN                 NaN   \n",
       "\n",
       "   Q30_CARE_PAST_30_5  Q30_CARE_PAST_30_6  Q30_CARE_PAST_30_7  \\\n",
       "0                 NaN                 NaN                 NaN   \n",
       "1                 NaN                 NaN                 NaN   \n",
       "2                 NaN                 NaN                 NaN   \n",
       "3                 NaN                 NaN                 1.0   \n",
       "4                 NaN                 NaN                 NaN   \n",
       "\n",
       "   Q31_TREAT_CHANGES  Q32_PAIN_SCALE  Q33_PROGRAMS_AVAIL  \n",
       "0                2.0             1.0                 NaN  \n",
       "1                NaN             NaN                 0.0  \n",
       "2                1.0             1.0                 1.0  \n",
       "3                1.0             NaN                 0.0  \n",
       "4                2.0             NaN                 NaN  \n",
       "\n",
       "[5 rows x 103 columns]"
      ]
     },
     "execution_count": 98,
     "metadata": {},
     "output_type": "execute_result"
    }
   ],
   "source": [
    "records.head()"
   ]
  },
  {
   "cell_type": "code",
   "execution_count": 99,
   "metadata": {},
   "outputs": [],
   "source": [
    "records.columns = records.columns.str.lower()"
   ]
  },
  {
   "cell_type": "markdown",
   "metadata": {},
   "source": [
    " ### Filter Member Data by Latest Survey"
   ]
  },
  {
   "cell_type": "code",
   "execution_count": 100,
   "metadata": {},
   "outputs": [
    {
     "data": {
      "text/plain": [
       "58736    13\n",
       "10700    12\n",
       "85510    11\n",
       "29577    11\n",
       "54801    11\n",
       "         ..\n",
       "45625     1\n",
       "20129     1\n",
       "72066     1\n",
       "81179     1\n",
       "1320      1\n",
       "Name: member_id, Length: 27103, dtype: int64"
      ]
     },
     "execution_count": 100,
     "metadata": {},
     "output_type": "execute_result"
    }
   ],
   "source": [
    "records['member_id'].value_counts()"
   ]
  },
  {
   "cell_type": "code",
   "execution_count": 101,
   "metadata": {},
   "outputs": [
    {
     "data": {
      "text/plain": [
       "23395     9/30/2019\n",
       "62185     9/30/2019\n",
       "23394      3/8/2019\n",
       "41652      3/8/2019\n",
       "23398    12/17/2019\n",
       "71228    12/17/2019\n",
       "23397    10/30/2019\n",
       "66384    10/30/2019\n",
       "66773    10/30/2019\n",
       "23396    10/11/2019\n",
       "63405    10/11/2019\n",
       "23399      1/3/2019\n",
       "35475      1/3/2019\n",
       "Name: survey_date, dtype: object"
      ]
     },
     "execution_count": 101,
     "metadata": {},
     "output_type": "execute_result"
    }
   ],
   "source": [
    "records[records['member_id'] == 58736].sort_values(by='survey_date', ascending=False)['survey_date']"
   ]
  },
  {
   "cell_type": "code",
   "execution_count": 102,
   "metadata": {},
   "outputs": [],
   "source": [
    "records.sort_values(by='survey_date', inplace=True)"
   ]
  },
  {
   "cell_type": "code",
   "execution_count": 103,
   "metadata": {},
   "outputs": [
    {
     "data": {
      "text/html": [
       "<div>\n",
       "<style scoped>\n",
       "    .dataframe tbody tr th:only-of-type {\n",
       "        vertical-align: middle;\n",
       "    }\n",
       "\n",
       "    .dataframe tbody tr th {\n",
       "        vertical-align: top;\n",
       "    }\n",
       "\n",
       "    .dataframe thead th {\n",
       "        text-align: right;\n",
       "    }\n",
       "</style>\n",
       "<table border=\"1\" class=\"dataframe\">\n",
       "  <thead>\n",
       "    <tr style=\"text-align: right;\">\n",
       "      <th></th>\n",
       "      <th>member_id</th>\n",
       "      <th>survey_date</th>\n",
       "      <th>comp_form</th>\n",
       "      <th>date_of_birth</th>\n",
       "      <th>gender</th>\n",
       "      <th>race</th>\n",
       "      <th>hispanic_latio</th>\n",
       "      <th>language</th>\n",
       "      <th>height</th>\n",
       "      <th>weight</th>\n",
       "      <th>...</th>\n",
       "      <th>q30_care_past_30_1</th>\n",
       "      <th>q30_care_past_30_2</th>\n",
       "      <th>q30_care_past_30_3</th>\n",
       "      <th>q30_care_past_30_4</th>\n",
       "      <th>q30_care_past_30_5</th>\n",
       "      <th>q30_care_past_30_6</th>\n",
       "      <th>q30_care_past_30_7</th>\n",
       "      <th>q31_treat_changes</th>\n",
       "      <th>q32_pain_scale</th>\n",
       "      <th>q33_programs_avail</th>\n",
       "    </tr>\n",
       "  </thead>\n",
       "  <tbody>\n",
       "    <tr>\n",
       "      <th>0</th>\n",
       "      <td>16915</td>\n",
       "      <td>1/1/2019</td>\n",
       "      <td>1.0</td>\n",
       "      <td>27-Oct-55</td>\n",
       "      <td>1.0</td>\n",
       "      <td>1.0</td>\n",
       "      <td>1.0</td>\n",
       "      <td>1.0</td>\n",
       "      <td>68</td>\n",
       "      <td>335</td>\n",
       "      <td>...</td>\n",
       "      <td>1.0</td>\n",
       "      <td>1.0</td>\n",
       "      <td>NaN</td>\n",
       "      <td>1.0</td>\n",
       "      <td>NaN</td>\n",
       "      <td>NaN</td>\n",
       "      <td>NaN</td>\n",
       "      <td>1.0</td>\n",
       "      <td>1.0</td>\n",
       "      <td>NaN</td>\n",
       "    </tr>\n",
       "    <tr>\n",
       "      <th>1</th>\n",
       "      <td>48409</td>\n",
       "      <td>1/10/2019</td>\n",
       "      <td>4.0</td>\n",
       "      <td>29-Oct-48</td>\n",
       "      <td>2.0</td>\n",
       "      <td>2.0</td>\n",
       "      <td>1.0</td>\n",
       "      <td>1.0</td>\n",
       "      <td>65</td>\n",
       "      <td>180</td>\n",
       "      <td>...</td>\n",
       "      <td>NaN</td>\n",
       "      <td>NaN</td>\n",
       "      <td>NaN</td>\n",
       "      <td>NaN</td>\n",
       "      <td>NaN</td>\n",
       "      <td>NaN</td>\n",
       "      <td>1.0</td>\n",
       "      <td>1.0</td>\n",
       "      <td>1.0</td>\n",
       "      <td>1.0</td>\n",
       "    </tr>\n",
       "    <tr>\n",
       "      <th>2</th>\n",
       "      <td>40456</td>\n",
       "      <td>1/10/2019</td>\n",
       "      <td>4.0</td>\n",
       "      <td>10-May-34</td>\n",
       "      <td>1.0</td>\n",
       "      <td>1.0</td>\n",
       "      <td>1.0</td>\n",
       "      <td>1.0</td>\n",
       "      <td>67</td>\n",
       "      <td>175</td>\n",
       "      <td>...</td>\n",
       "      <td>1.0</td>\n",
       "      <td>NaN</td>\n",
       "      <td>NaN</td>\n",
       "      <td>NaN</td>\n",
       "      <td>NaN</td>\n",
       "      <td>NaN</td>\n",
       "      <td>NaN</td>\n",
       "      <td>1.0</td>\n",
       "      <td>0.0</td>\n",
       "      <td>NaN</td>\n",
       "    </tr>\n",
       "    <tr>\n",
       "      <th>3</th>\n",
       "      <td>85973</td>\n",
       "      <td>1/10/2019</td>\n",
       "      <td>1.0</td>\n",
       "      <td>11-Mar-56</td>\n",
       "      <td>2.0</td>\n",
       "      <td>1.0</td>\n",
       "      <td>1.0</td>\n",
       "      <td>1.0</td>\n",
       "      <td>5 ft 6 in</td>\n",
       "      <td>NaN</td>\n",
       "      <td>...</td>\n",
       "      <td>NaN</td>\n",
       "      <td>NaN</td>\n",
       "      <td>NaN</td>\n",
       "      <td>NaN</td>\n",
       "      <td>NaN</td>\n",
       "      <td>NaN</td>\n",
       "      <td>1.0</td>\n",
       "      <td>2.0</td>\n",
       "      <td>1.0</td>\n",
       "      <td>0.0</td>\n",
       "    </tr>\n",
       "    <tr>\n",
       "      <th>4</th>\n",
       "      <td>8339</td>\n",
       "      <td>1/10/2019</td>\n",
       "      <td>2.0</td>\n",
       "      <td>13-Mar-66</td>\n",
       "      <td>1.0</td>\n",
       "      <td>NaN</td>\n",
       "      <td>1.0</td>\n",
       "      <td>1.0</td>\n",
       "      <td>NaN</td>\n",
       "      <td>NaN</td>\n",
       "      <td>...</td>\n",
       "      <td>NaN</td>\n",
       "      <td>NaN</td>\n",
       "      <td>NaN</td>\n",
       "      <td>NaN</td>\n",
       "      <td>NaN</td>\n",
       "      <td>NaN</td>\n",
       "      <td>NaN</td>\n",
       "      <td>NaN</td>\n",
       "      <td>NaN</td>\n",
       "      <td>NaN</td>\n",
       "    </tr>\n",
       "    <tr>\n",
       "      <th>...</th>\n",
       "      <td>...</td>\n",
       "      <td>...</td>\n",
       "      <td>...</td>\n",
       "      <td>...</td>\n",
       "      <td>...</td>\n",
       "      <td>...</td>\n",
       "      <td>...</td>\n",
       "      <td>...</td>\n",
       "      <td>...</td>\n",
       "      <td>...</td>\n",
       "      <td>...</td>\n",
       "      <td>...</td>\n",
       "      <td>...</td>\n",
       "      <td>...</td>\n",
       "      <td>...</td>\n",
       "      <td>...</td>\n",
       "      <td>...</td>\n",
       "      <td>...</td>\n",
       "      <td>...</td>\n",
       "      <td>...</td>\n",
       "      <td>...</td>\n",
       "    </tr>\n",
       "    <tr>\n",
       "      <th>27098</th>\n",
       "      <td>19682</td>\n",
       "      <td>9/9/2019</td>\n",
       "      <td>4.0</td>\n",
       "      <td>30-Dec-62</td>\n",
       "      <td>2.0</td>\n",
       "      <td>1.0</td>\n",
       "      <td>2.0</td>\n",
       "      <td>2.0</td>\n",
       "      <td>64</td>\n",
       "      <td>173</td>\n",
       "      <td>...</td>\n",
       "      <td>NaN</td>\n",
       "      <td>NaN</td>\n",
       "      <td>NaN</td>\n",
       "      <td>NaN</td>\n",
       "      <td>NaN</td>\n",
       "      <td>NaN</td>\n",
       "      <td>1.0</td>\n",
       "      <td>1.0</td>\n",
       "      <td>1.0</td>\n",
       "      <td>1.0</td>\n",
       "    </tr>\n",
       "    <tr>\n",
       "      <th>27099</th>\n",
       "      <td>82284</td>\n",
       "      <td>9/9/2019</td>\n",
       "      <td>1.0</td>\n",
       "      <td>5-Oct-34</td>\n",
       "      <td>NaN</td>\n",
       "      <td>NaN</td>\n",
       "      <td>NaN</td>\n",
       "      <td>NaN</td>\n",
       "      <td>NaN</td>\n",
       "      <td>NaN</td>\n",
       "      <td>...</td>\n",
       "      <td>NaN</td>\n",
       "      <td>1.0</td>\n",
       "      <td>NaN</td>\n",
       "      <td>NaN</td>\n",
       "      <td>NaN</td>\n",
       "      <td>NaN</td>\n",
       "      <td>NaN</td>\n",
       "      <td>1.0</td>\n",
       "      <td>NaN</td>\n",
       "      <td>NaN</td>\n",
       "    </tr>\n",
       "    <tr>\n",
       "      <th>27100</th>\n",
       "      <td>20239</td>\n",
       "      <td>9/9/2019</td>\n",
       "      <td>4.0</td>\n",
       "      <td>17-Apr-59</td>\n",
       "      <td>1.0</td>\n",
       "      <td>2.0</td>\n",
       "      <td>1.0</td>\n",
       "      <td>1.0</td>\n",
       "      <td>73</td>\n",
       "      <td>215</td>\n",
       "      <td>...</td>\n",
       "      <td>NaN</td>\n",
       "      <td>NaN</td>\n",
       "      <td>NaN</td>\n",
       "      <td>NaN</td>\n",
       "      <td>NaN</td>\n",
       "      <td>NaN</td>\n",
       "      <td>1.0</td>\n",
       "      <td>1.0</td>\n",
       "      <td>1.0</td>\n",
       "      <td>1.0</td>\n",
       "    </tr>\n",
       "    <tr>\n",
       "      <th>27101</th>\n",
       "      <td>82480</td>\n",
       "      <td>9/9/2019</td>\n",
       "      <td>4.0</td>\n",
       "      <td>13-Dec-79</td>\n",
       "      <td>1.0</td>\n",
       "      <td>1.0</td>\n",
       "      <td>1.0</td>\n",
       "      <td>1.0</td>\n",
       "      <td>72</td>\n",
       "      <td>225</td>\n",
       "      <td>...</td>\n",
       "      <td>1.0</td>\n",
       "      <td>NaN</td>\n",
       "      <td>NaN</td>\n",
       "      <td>NaN</td>\n",
       "      <td>NaN</td>\n",
       "      <td>NaN</td>\n",
       "      <td>NaN</td>\n",
       "      <td>1.0</td>\n",
       "      <td>1.0</td>\n",
       "      <td>1.0</td>\n",
       "    </tr>\n",
       "    <tr>\n",
       "      <th>27102</th>\n",
       "      <td>11826</td>\n",
       "      <td>9/9/2019</td>\n",
       "      <td>4.0</td>\n",
       "      <td>17-Dec-85</td>\n",
       "      <td>2.0</td>\n",
       "      <td>7.0</td>\n",
       "      <td>1.0</td>\n",
       "      <td>1.0</td>\n",
       "      <td>60</td>\n",
       "      <td>125</td>\n",
       "      <td>...</td>\n",
       "      <td>1.0</td>\n",
       "      <td>1.0</td>\n",
       "      <td>NaN</td>\n",
       "      <td>NaN</td>\n",
       "      <td>NaN</td>\n",
       "      <td>NaN</td>\n",
       "      <td>NaN</td>\n",
       "      <td>1.0</td>\n",
       "      <td>1.0</td>\n",
       "      <td>1.0</td>\n",
       "    </tr>\n",
       "  </tbody>\n",
       "</table>\n",
       "<p>27103 rows × 103 columns</p>\n",
       "</div>"
      ],
      "text/plain": [
       "       member_id survey_date  comp_form date_of_birth  gender  race  \\\n",
       "0          16915    1/1/2019        1.0     27-Oct-55     1.0   1.0   \n",
       "1          48409   1/10/2019        4.0     29-Oct-48     2.0   2.0   \n",
       "2          40456   1/10/2019        4.0     10-May-34     1.0   1.0   \n",
       "3          85973   1/10/2019        1.0     11-Mar-56     2.0   1.0   \n",
       "4           8339   1/10/2019        2.0     13-Mar-66     1.0   NaN   \n",
       "...          ...         ...        ...           ...     ...   ...   \n",
       "27098      19682    9/9/2019        4.0     30-Dec-62     2.0   1.0   \n",
       "27099      82284    9/9/2019        1.0      5-Oct-34     NaN   NaN   \n",
       "27100      20239    9/9/2019        4.0     17-Apr-59     1.0   2.0   \n",
       "27101      82480    9/9/2019        4.0     13-Dec-79     1.0   1.0   \n",
       "27102      11826    9/9/2019        4.0     17-Dec-85     2.0   7.0   \n",
       "\n",
       "       hispanic_latio  language     height weight  ...  q30_care_past_30_1  \\\n",
       "0                 1.0       1.0         68    335  ...                 1.0   \n",
       "1                 1.0       1.0         65    180  ...                 NaN   \n",
       "2                 1.0       1.0         67    175  ...                 1.0   \n",
       "3                 1.0       1.0  5 ft 6 in    NaN  ...                 NaN   \n",
       "4                 1.0       1.0        NaN    NaN  ...                 NaN   \n",
       "...               ...       ...        ...    ...  ...                 ...   \n",
       "27098             2.0       2.0         64    173  ...                 NaN   \n",
       "27099             NaN       NaN        NaN    NaN  ...                 NaN   \n",
       "27100             1.0       1.0         73    215  ...                 NaN   \n",
       "27101             1.0       1.0         72    225  ...                 1.0   \n",
       "27102             1.0       1.0         60    125  ...                 1.0   \n",
       "\n",
       "       q30_care_past_30_2  q30_care_past_30_3  q30_care_past_30_4  \\\n",
       "0                     1.0                 NaN                 1.0   \n",
       "1                     NaN                 NaN                 NaN   \n",
       "2                     NaN                 NaN                 NaN   \n",
       "3                     NaN                 NaN                 NaN   \n",
       "4                     NaN                 NaN                 NaN   \n",
       "...                   ...                 ...                 ...   \n",
       "27098                 NaN                 NaN                 NaN   \n",
       "27099                 1.0                 NaN                 NaN   \n",
       "27100                 NaN                 NaN                 NaN   \n",
       "27101                 NaN                 NaN                 NaN   \n",
       "27102                 1.0                 NaN                 NaN   \n",
       "\n",
       "       q30_care_past_30_5  q30_care_past_30_6  q30_care_past_30_7  \\\n",
       "0                     NaN                 NaN                 NaN   \n",
       "1                     NaN                 NaN                 1.0   \n",
       "2                     NaN                 NaN                 NaN   \n",
       "3                     NaN                 NaN                 1.0   \n",
       "4                     NaN                 NaN                 NaN   \n",
       "...                   ...                 ...                 ...   \n",
       "27098                 NaN                 NaN                 1.0   \n",
       "27099                 NaN                 NaN                 NaN   \n",
       "27100                 NaN                 NaN                 1.0   \n",
       "27101                 NaN                 NaN                 NaN   \n",
       "27102                 NaN                 NaN                 NaN   \n",
       "\n",
       "       q31_treat_changes  q32_pain_scale  q33_programs_avail  \n",
       "0                    1.0             1.0                 NaN  \n",
       "1                    1.0             1.0                 1.0  \n",
       "2                    1.0             0.0                 NaN  \n",
       "3                    2.0             1.0                 0.0  \n",
       "4                    NaN             NaN                 NaN  \n",
       "...                  ...             ...                 ...  \n",
       "27098                1.0             1.0                 1.0  \n",
       "27099                1.0             NaN                 NaN  \n",
       "27100                1.0             1.0                 1.0  \n",
       "27101                1.0             1.0                 1.0  \n",
       "27102                1.0             1.0                 1.0  \n",
       "\n",
       "[27103 rows x 103 columns]"
      ]
     },
     "execution_count": 103,
     "metadata": {},
     "output_type": "execute_result"
    }
   ],
   "source": [
    "latest_records = records.groupby('member_id', as_index=False).nth(-1).reset_index(drop=True)\n",
    "latest_records"
   ]
  },
  {
   "cell_type": "code",
   "execution_count": 104,
   "metadata": {},
   "outputs": [
    {
     "data": {
      "text/plain": [
       "26667    9/30/2019\n",
       "Name: survey_date, dtype: object"
      ]
     },
     "execution_count": 104,
     "metadata": {},
     "output_type": "execute_result"
    }
   ],
   "source": [
    "latest_records[latest_records['member_id'] == 58736]['survey_date']"
   ]
  },
  {
   "cell_type": "code",
   "execution_count": 105,
   "metadata": {},
   "outputs": [
    {
     "data": {
      "text/plain": [
       "Series([], Name: member_id, dtype: int64)"
      ]
     },
     "execution_count": 105,
     "metadata": {},
     "output_type": "execute_result"
    }
   ],
   "source": [
    "latest_records['member_id'].value_counts().loc[lambda x: x > 1]"
   ]
  },
  {
   "cell_type": "markdown",
   "metadata": {},
   "source": [
    "### Create Age Feature From Birth Day Feature"
   ]
  },
  {
   "cell_type": "code",
   "execution_count": 106,
   "metadata": {},
   "outputs": [],
   "source": [
    "def add_century(date):\n",
    "    date_list = date.split('-')\n",
    "    date_list[2] = '19' + date_list[2]\n",
    "    delimiter = '-'\n",
    "    return delimiter.join(date_list)"
   ]
  },
  {
   "cell_type": "code",
   "execution_count": 107,
   "metadata": {},
   "outputs": [
    {
     "data": {
      "text/plain": [
       "0    27-Oct-1955\n",
       "1    29-Oct-1948\n",
       "2    10-May-1934\n",
       "3    11-Mar-1956\n",
       "4    13-Mar-1966\n",
       "Name: date_of_birth, dtype: object"
      ]
     },
     "execution_count": 107,
     "metadata": {},
     "output_type": "execute_result"
    }
   ],
   "source": [
    "latest_records['date_of_birth'] = latest_records['date_of_birth'].apply(add_century)\n",
    "latest_records['date_of_birth'].head()"
   ]
  },
  {
   "cell_type": "code",
   "execution_count": 108,
   "metadata": {},
   "outputs": [],
   "source": [
    "def calc_age(date):\n",
    "    date = datetime.strptime(date, '%d-%b-%Y').date()\n",
    "    today = date.today()\n",
    "    return today.year - date.year"
   ]
  },
  {
   "cell_type": "code",
   "execution_count": 109,
   "metadata": {},
   "outputs": [
    {
     "data": {
      "text/plain": [
       "70     1072\n",
       "68      998\n",
       "71      964\n",
       "69      946\n",
       "72      874\n",
       "       ... \n",
       "102       4\n",
       "105       2\n",
       "108       1\n",
       "104       1\n",
       "106       1\n",
       "Name: age, Length: 84, dtype: int64"
      ]
     },
     "execution_count": 109,
     "metadata": {},
     "output_type": "execute_result"
    }
   ],
   "source": [
    "latest_records['age'] = np.nan\n",
    "latest_records['age'] = latest_records['date_of_birth'].apply(calc_age)\n",
    "\n",
    "latest_records['age'].value_counts()"
   ]
  },
  {
   "cell_type": "markdown",
   "metadata": {},
   "source": [
    "### Convert Improperly Formatted Heights"
   ]
  },
  {
   "cell_type": "code",
   "execution_count": 110,
   "metadata": {},
   "outputs": [
    {
     "data": {
      "text/plain": [
       "5 ft 8 inc    1\n",
       "122           1\n",
       "5 ft 11 lb    1\n",
       "5*5           1\n",
       "4*11          1\n",
       "             ..\n",
       "146           1\n",
       "136           1\n",
       "1             1\n",
       "5.5           1\n",
       "153           1\n",
       "Name: height, Length: 127, dtype: int64"
      ]
     },
     "execution_count": 110,
     "metadata": {},
     "output_type": "execute_result"
    }
   ],
   "source": [
    "latest_records['height'].value_counts().loc[lambda x: x < 2]"
   ]
  },
  {
   "cell_type": "code",
   "execution_count": 111,
   "metadata": {},
   "outputs": [],
   "source": [
    "def height_converter(height):\n",
    "    if not pd.isnull(height):\n",
    "        height_lst = re.split('\\\\D+', height)\n",
    "        if len(height_lst) > 1:\n",
    "            try:\n",
    "                height = int(height_lst[0])*12 + int(height_lst[1])\n",
    "            except:\n",
    "                height = np.nan\n",
    "        else:\n",
    "            try:\n",
    "                if int(height) > 100:\n",
    "                    height = int(height*0.393701)\n",
    "            except:\n",
    "                height = np.nan\n",
    "    return height"
   ]
  },
  {
   "cell_type": "code",
   "execution_count": 112,
   "metadata": {},
   "outputs": [
    {
     "data": {
      "text/plain": [
       "64    1873\n",
       "62    1824\n",
       "66    1713\n",
       "63    1578\n",
       "65    1445\n",
       "      ... \n",
       "15       1\n",
       "34       1\n",
       "90       1\n",
       "88       1\n",
       "3        1\n",
       "Name: height, Length: 122, dtype: int64"
      ]
     },
     "execution_count": 112,
     "metadata": {},
     "output_type": "execute_result"
    }
   ],
   "source": [
    "latest_records['height'] = latest_records['height'].apply(height_converter)\n",
    "latest_records['height'].value_counts()"
   ]
  },
  {
   "cell_type": "markdown",
   "metadata": {},
   "source": [
    "### Convert Improperly Formatted Weights"
   ]
  },
  {
   "cell_type": "code",
   "execution_count": 113,
   "metadata": {},
   "outputs": [
    {
     "data": {
      "text/plain": [
       "506         1\n",
       "155lbs      1\n",
       "240 lbs     1\n",
       "190LB       1\n",
       "350LBS      1\n",
       "           ..\n",
       "258 LBS     1\n",
       "96lbs       1\n",
       "218 lbs.    1\n",
       "165  lbs    1\n",
       "141 LBS     1\n",
       "Name: weight, Length: 254, dtype: int64"
      ]
     },
     "execution_count": 113,
     "metadata": {},
     "output_type": "execute_result"
    }
   ],
   "source": [
    "latest_records['weight'].value_counts().loc[lambda x: x < 2]"
   ]
  },
  {
   "cell_type": "code",
   "execution_count": 114,
   "metadata": {},
   "outputs": [
    {
     "data": {
      "text/plain": [
       "180    587\n",
       "200    561\n",
       "160    553\n",
       "150    506\n",
       "170    494\n",
       "      ... \n",
       "417      1\n",
       "365      1\n",
       "354      1\n",
       "350      1\n",
       "0        1\n",
       "Name: weight, Length: 517, dtype: int64"
      ]
     },
     "execution_count": 114,
     "metadata": {},
     "output_type": "execute_result"
    }
   ],
   "source": [
    "def weight_converter(weight):\n",
    "    if not pd.isnull(weight):\n",
    "        try:\n",
    "            int(weight)\n",
    "        except:\n",
    "            weight = re.sub('\\\\D', '', weight)\n",
    "            if weight != '':\n",
    "                weight = int(weight)\n",
    "            else:\n",
    "                weight = np.nan\n",
    "    return weight\n",
    "        \n",
    "latest_records['weight'] = latest_records['weight'].apply(weight_converter)\n",
    "latest_records['weight'].value_counts()"
   ]
  },
  {
   "cell_type": "markdown",
   "metadata": {},
   "source": [
    "### Drop Features With 50% or More Null Values and Replace Null Values"
   ]
  },
  {
   "cell_type": "code",
   "execution_count": 115,
   "metadata": {},
   "outputs": [
    {
     "data": {
      "text/plain": [
       "member_id                 0\n",
       "survey_date               0\n",
       "comp_form               138\n",
       "date_of_birth             0\n",
       "gender                 1134\n",
       "                      ...  \n",
       "q30_care_past_30_7    20395\n",
       "q31_treat_changes      3828\n",
       "q32_pain_scale         5476\n",
       "q33_programs_avail    10614\n",
       "age                       0\n",
       "Length: 104, dtype: int64"
      ]
     },
     "execution_count": 115,
     "metadata": {},
     "output_type": "execute_result"
    }
   ],
   "source": [
    "latest_records.isnull().sum()"
   ]
  },
  {
   "cell_type": "code",
   "execution_count": 116,
   "metadata": {},
   "outputs": [
    {
     "data": {
      "text/plain": [
       "[('q8t_follow_up_2', 0.9999631037154558),\n",
       " ('q8t_follow_up_7', 0.9992989705936612),\n",
       " ('q8t_follow_up_5', 0.9992251780245729),\n",
       " ('q8t_follow_up_3', 0.9985241486182341),\n",
       " ('q5_health_cond_7', 0.9979338080655278),\n",
       " ('q6_wellbeing_4', 0.997232778659189),\n",
       " ('q8t_follow_up_4', 0.9971589860901007),\n",
       " ('q8t_follow_up_6', 0.9943548684647456),\n",
       " ('q5_health_cond_12', 0.989927314319448),\n",
       " ('q8t_follow_up_1', 0.9854628638896064),\n",
       " ('q30_care_past_30_5', 0.979338080655278),\n",
       " ('q5_health_cond_10', 0.9780098144116888),\n",
       " ('q30_care_past_30_6', 0.9769029258753643),\n",
       " ('q9_problems_11', 0.9754270744935984),\n",
       " ('q7_health_imp_5', 0.9750950079327012),\n",
       " ('q5_health_cond_16', 0.9745784599490831),\n",
       " ('q5_health_cond_15', 0.9721802014537136),\n",
       " ('q7_health_imp_6', 0.970261594657418),\n",
       " ('q5_health_cond_13', 0.9702246983728738),\n",
       " ('q6_wellbeing_9', 0.9641368114230897),\n",
       " ('q5_health_cond_20', 0.9625133749031473),\n",
       " ('q5_health_cond_8', 0.9550603254252297),\n",
       " ('q5_health_cond_22', 0.952883444637125),\n",
       " ('q6_wellbeing_7', 0.9451352248828543),\n",
       " ('q7_health_imp_4', 0.938272515957643),\n",
       " ('q5_health_cond_17', 0.9270560454562226),\n",
       " ('q9_problems_4', 0.9253588163671919),\n",
       " ('q6_wellbeing_3', 0.9215953953436888),\n",
       " ('q30_care_past_30_4', 0.9145851012803011),\n",
       " ('q5_health_cond_21', 0.9080913552005313),\n",
       " ('q30_care_past_30_3', 0.9075748072169133),\n",
       " ('q6_wellbeing_2', 0.9025569125189093),\n",
       " ('q5_health_cond_19', 0.901450023982585),\n",
       " ('q9_problems_3', 0.8817474080360108),\n",
       " ('q5_health_cond_23', 0.8753643508098734),\n",
       " ('q5_health_cond_14', 0.8748478028262554),\n",
       " ('q9_problems_10', 0.8724495443308858),\n",
       " ('q9_problems_9', 0.8661402796738369),\n",
       " ('q6_wellbeing_8', 0.85584621628602),\n",
       " ('q7_health_imp_3', 0.8550344980260488),\n",
       " ('q5_health_cond_4', 0.8461793897354536),\n",
       " ('q5_health_cond_3', 0.8369553185994171),\n",
       " ('q5_health_cond_11', 0.8324539718850312),\n",
       " ('q5_health_cond_18', 0.8316053573405158),\n",
       " ('q9_problems_1', 0.8299081282514851),\n",
       " ('q5_health_cond_1', 0.8126406670848245),\n",
       " ('q6_wellbeing_5', 0.8021252259897428),\n",
       " ('q9_problems_6', 0.7982880123971516),\n",
       " ('q30_care_past_30_7', 0.752499723277866),\n",
       " ('q9_problems_8', 0.7302512636977456),\n",
       " ('q30_care_past_30_2', 0.7302512636977456),\n",
       " ('q9_problems_7', 0.7151237870346456),\n",
       " ('q5_health_cond_5', 0.7132789728074382),\n",
       " ('q5_health_cond_2', 0.6787440504741172),\n",
       " ('q6_wellbeing_1', 0.6535807844150094),\n",
       " ('q7_health_imp_2', 0.6490056451315352),\n",
       " ('q5_health_cond_9', 0.6479725491642991),\n",
       " ('q6_wellbeing_6', 0.6129579751319042),\n",
       " ('q9_problems_2', 0.6075711175884588),\n",
       " ('q7_health_imp_1', 0.5958749953879644),\n",
       " ('q9_problems_5', 0.5807475187248644),\n",
       " ('q5_health_cond_6', 0.5485739586023688),\n",
       " ('q30_care_past_30_1', 0.5137069697081504),\n",
       " ('q1_pregnant', 0.45400878131572153),\n",
       " ('q3_ccs_past_year', 0.44817916835774635),\n",
       " ('q2_bcs_past_year', 0.4189204147142383),\n",
       " ('q33_programs_avail', 0.39161716415156994),\n",
       " ('weight', 0.2768328229347305),\n",
       " ('q19_support', 0.23978895325240748),\n",
       " ('q11_fruit_veg', 0.23156108179906285),\n",
       " ('q24_seatbelts', 0.2040364535291296),\n",
       " ('q32_pain_scale', 0.2020440541637457),\n",
       " ('height', 0.1981330480020662),\n",
       " ('q13_stress', 0.18337453418440763),\n",
       " ('q8_beliefs', 0.18138213481902374),\n",
       " ('q14_anxious', 0.18090248311994983),\n",
       " ('q21_meds_np_prov', 0.16064642290521344),\n",
       " ('q4_rate_health', 0.1528982031509427),\n",
       " ('q17_sleep', 0.15275061801276613),\n",
       " ('q20_meds_np', 0.1447810205512305),\n",
       " ('q29_annual_scrn', 0.14459653912850975),\n",
       " ('q18_substances', 0.14430136885215658),\n",
       " ('q12_exercise', 0.14245655462494927),\n",
       " ('q31_treat_changes', 0.14123897723499243),\n",
       " ('hearing_imp', 0.13581522340700292),\n",
       " ('q16_therapy', 0.12862044792089436),\n",
       " ('race', 0.12670184112459876),\n",
       " ('hispanic_latio', 0.12670184112459876),\n",
       " ('q28_health_lit', 0.12541047116555362),\n",
       " ('vision_imp', 0.12345496808471387),\n",
       " ('q23_dme', 0.11718259971220898),\n",
       " ('q27_last_appt', 0.11459985979411873),\n",
       " ('q25_living_sit', 0.11109471276242483),\n",
       " ('q26_primary_care', 0.10002582739918091),\n",
       " ('q15_bh_total_score', 0.098033428033797),\n",
       " ('q10_food_insc', 0.0933475998966904),\n",
       " ('q22_meds_diff', 0.053388923735379845),\n",
       " ('gender', 0.04184038667306202),\n",
       " ('language', 0.03866730620226543),\n",
       " ('comp_form', 0.0050916872670922035),\n",
       " ('member_id', 0.0),\n",
       " ('survey_date', 0.0),\n",
       " ('date_of_birth', 0.0),\n",
       " ('age', 0.0)]"
      ]
     },
     "execution_count": 116,
     "metadata": {},
     "output_type": "execute_result"
    }
   ],
   "source": [
    "null_cols = []\n",
    "for column in latest_records.columns:\n",
    "    null_cols.append((column, latest_records[column].isnull().sum()/len(latest_records)))\n",
    "\n",
    "null_cols.sort(key=lambda x: x[1], reverse=True)\n",
    "\n",
    "null_cols"
   ]
  },
  {
   "cell_type": "code",
   "execution_count": 117,
   "metadata": {},
   "outputs": [],
   "source": [
    "threshold = 0.5\n",
    "\n",
    "for column in latest_records.columns:\n",
    "    if latest_records[column].isnull().sum()/len(latest_records) >= threshold:\n",
    "        latest_records.drop(column, axis=1, inplace=True)"
   ]
  },
  {
   "cell_type": "code",
   "execution_count": 118,
   "metadata": {},
   "outputs": [
    {
     "data": {
      "text/plain": [
       "member_id                 0\n",
       "survey_date               0\n",
       "comp_form               138\n",
       "date_of_birth             0\n",
       "gender                 1134\n",
       "race                   3434\n",
       "hispanic_latio         3434\n",
       "language               1048\n",
       "height                 5370\n",
       "weight                 7503\n",
       "vision_imp             3346\n",
       "hearing_imp            3681\n",
       "q1_pregnant           12305\n",
       "q2_bcs_past_year      11354\n",
       "q3_ccs_past_year      12147\n",
       "q4_rate_health         4144\n",
       "q8_beliefs             4916\n",
       "q10_food_insc          2530\n",
       "q11_fruit_veg          6276\n",
       "q12_exercise           3861\n",
       "q13_stress             4970\n",
       "q14_anxious            4903\n",
       "q15_bh_total_score     2657\n",
       "q16_therapy            3486\n",
       "q17_sleep              4140\n",
       "q18_substances         3911\n",
       "q19_support            6499\n",
       "q20_meds_np            3924\n",
       "q21_meds_np_prov       4354\n",
       "q22_meds_diff          1447\n",
       "q23_dme                3176\n",
       "q24_seatbelts          5530\n",
       "q25_living_sit         3011\n",
       "q26_primary_care       2711\n",
       "q27_last_appt          3106\n",
       "q28_health_lit         3399\n",
       "q29_annual_scrn        3919\n",
       "q31_treat_changes      3828\n",
       "q32_pain_scale         5476\n",
       "q33_programs_avail    10614\n",
       "age                       0\n",
       "dtype: int64"
      ]
     },
     "execution_count": 118,
     "metadata": {},
     "output_type": "execute_result"
    }
   ],
   "source": [
    "latest_records.isnull().sum()"
   ]
  },
  {
   "cell_type": "code",
   "execution_count": 119,
   "metadata": {},
   "outputs": [
    {
     "data": {
      "text/html": [
       "<div>\n",
       "<style scoped>\n",
       "    .dataframe tbody tr th:only-of-type {\n",
       "        vertical-align: middle;\n",
       "    }\n",
       "\n",
       "    .dataframe tbody tr th {\n",
       "        vertical-align: top;\n",
       "    }\n",
       "\n",
       "    .dataframe thead th {\n",
       "        text-align: right;\n",
       "    }\n",
       "</style>\n",
       "<table border=\"1\" class=\"dataframe\">\n",
       "  <thead>\n",
       "    <tr style=\"text-align: right;\">\n",
       "      <th></th>\n",
       "      <th>member_id</th>\n",
       "      <th>survey_date</th>\n",
       "      <th>comp_form</th>\n",
       "      <th>date_of_birth</th>\n",
       "      <th>gender</th>\n",
       "      <th>race</th>\n",
       "      <th>hispanic_latio</th>\n",
       "      <th>language</th>\n",
       "      <th>height</th>\n",
       "      <th>weight</th>\n",
       "      <th>...</th>\n",
       "      <th>q24_seatbelts</th>\n",
       "      <th>q25_living_sit</th>\n",
       "      <th>q26_primary_care</th>\n",
       "      <th>q27_last_appt</th>\n",
       "      <th>q28_health_lit</th>\n",
       "      <th>q29_annual_scrn</th>\n",
       "      <th>q31_treat_changes</th>\n",
       "      <th>q32_pain_scale</th>\n",
       "      <th>q33_programs_avail</th>\n",
       "      <th>age</th>\n",
       "    </tr>\n",
       "  </thead>\n",
       "  <tbody>\n",
       "    <tr>\n",
       "      <th>0</th>\n",
       "      <td>16915</td>\n",
       "      <td>1/1/2019</td>\n",
       "      <td>1.0</td>\n",
       "      <td>27-Oct-1955</td>\n",
       "      <td>1.0</td>\n",
       "      <td>1.0</td>\n",
       "      <td>1.0</td>\n",
       "      <td>1.0</td>\n",
       "      <td>68</td>\n",
       "      <td>335</td>\n",
       "      <td>...</td>\n",
       "      <td>1.0</td>\n",
       "      <td>0.0</td>\n",
       "      <td>2.0</td>\n",
       "      <td>1.0</td>\n",
       "      <td>1.0</td>\n",
       "      <td>2.0</td>\n",
       "      <td>1.0</td>\n",
       "      <td>1.0</td>\n",
       "      <td>NaN</td>\n",
       "      <td>67</td>\n",
       "    </tr>\n",
       "    <tr>\n",
       "      <th>1</th>\n",
       "      <td>48409</td>\n",
       "      <td>1/10/2019</td>\n",
       "      <td>4.0</td>\n",
       "      <td>29-Oct-1948</td>\n",
       "      <td>2.0</td>\n",
       "      <td>2.0</td>\n",
       "      <td>1.0</td>\n",
       "      <td>1.0</td>\n",
       "      <td>65</td>\n",
       "      <td>180</td>\n",
       "      <td>...</td>\n",
       "      <td>0.0</td>\n",
       "      <td>0.0</td>\n",
       "      <td>2.0</td>\n",
       "      <td>2.0</td>\n",
       "      <td>1.0</td>\n",
       "      <td>2.0</td>\n",
       "      <td>1.0</td>\n",
       "      <td>1.0</td>\n",
       "      <td>1.0</td>\n",
       "      <td>74</td>\n",
       "    </tr>\n",
       "    <tr>\n",
       "      <th>2</th>\n",
       "      <td>40456</td>\n",
       "      <td>1/10/2019</td>\n",
       "      <td>4.0</td>\n",
       "      <td>10-May-1934</td>\n",
       "      <td>1.0</td>\n",
       "      <td>1.0</td>\n",
       "      <td>1.0</td>\n",
       "      <td>1.0</td>\n",
       "      <td>67</td>\n",
       "      <td>175</td>\n",
       "      <td>...</td>\n",
       "      <td>1.0</td>\n",
       "      <td>0.0</td>\n",
       "      <td>2.0</td>\n",
       "      <td>1.0</td>\n",
       "      <td>1.0</td>\n",
       "      <td>2.0</td>\n",
       "      <td>1.0</td>\n",
       "      <td>0.0</td>\n",
       "      <td>NaN</td>\n",
       "      <td>88</td>\n",
       "    </tr>\n",
       "    <tr>\n",
       "      <th>3</th>\n",
       "      <td>85973</td>\n",
       "      <td>1/10/2019</td>\n",
       "      <td>1.0</td>\n",
       "      <td>11-Mar-1956</td>\n",
       "      <td>2.0</td>\n",
       "      <td>1.0</td>\n",
       "      <td>1.0</td>\n",
       "      <td>1.0</td>\n",
       "      <td>66</td>\n",
       "      <td>NaN</td>\n",
       "      <td>...</td>\n",
       "      <td>1.0</td>\n",
       "      <td>0.0</td>\n",
       "      <td>2.0</td>\n",
       "      <td>1.0</td>\n",
       "      <td>1.0</td>\n",
       "      <td>2.0</td>\n",
       "      <td>2.0</td>\n",
       "      <td>1.0</td>\n",
       "      <td>0.0</td>\n",
       "      <td>66</td>\n",
       "    </tr>\n",
       "    <tr>\n",
       "      <th>4</th>\n",
       "      <td>8339</td>\n",
       "      <td>1/10/2019</td>\n",
       "      <td>2.0</td>\n",
       "      <td>13-Mar-1966</td>\n",
       "      <td>1.0</td>\n",
       "      <td>NaN</td>\n",
       "      <td>1.0</td>\n",
       "      <td>1.0</td>\n",
       "      <td>NaN</td>\n",
       "      <td>NaN</td>\n",
       "      <td>...</td>\n",
       "      <td>NaN</td>\n",
       "      <td>0.0</td>\n",
       "      <td>2.0</td>\n",
       "      <td>1.0</td>\n",
       "      <td>NaN</td>\n",
       "      <td>NaN</td>\n",
       "      <td>NaN</td>\n",
       "      <td>NaN</td>\n",
       "      <td>NaN</td>\n",
       "      <td>56</td>\n",
       "    </tr>\n",
       "  </tbody>\n",
       "</table>\n",
       "<p>5 rows × 41 columns</p>\n",
       "</div>"
      ],
      "text/plain": [
       "   member_id survey_date  comp_form date_of_birth  gender  race  \\\n",
       "0      16915    1/1/2019        1.0   27-Oct-1955     1.0   1.0   \n",
       "1      48409   1/10/2019        4.0   29-Oct-1948     2.0   2.0   \n",
       "2      40456   1/10/2019        4.0   10-May-1934     1.0   1.0   \n",
       "3      85973   1/10/2019        1.0   11-Mar-1956     2.0   1.0   \n",
       "4       8339   1/10/2019        2.0   13-Mar-1966     1.0   NaN   \n",
       "\n",
       "   hispanic_latio  language height weight  ...  q24_seatbelts  q25_living_sit  \\\n",
       "0             1.0       1.0     68    335  ...            1.0             0.0   \n",
       "1             1.0       1.0     65    180  ...            0.0             0.0   \n",
       "2             1.0       1.0     67    175  ...            1.0             0.0   \n",
       "3             1.0       1.0     66    NaN  ...            1.0             0.0   \n",
       "4             1.0       1.0    NaN    NaN  ...            NaN             0.0   \n",
       "\n",
       "   q26_primary_care  q27_last_appt  q28_health_lit  q29_annual_scrn  \\\n",
       "0               2.0            1.0             1.0              2.0   \n",
       "1               2.0            2.0             1.0              2.0   \n",
       "2               2.0            1.0             1.0              2.0   \n",
       "3               2.0            1.0             1.0              2.0   \n",
       "4               2.0            1.0             NaN              NaN   \n",
       "\n",
       "   q31_treat_changes  q32_pain_scale  q33_programs_avail  age  \n",
       "0                1.0             1.0                 NaN   67  \n",
       "1                1.0             1.0                 1.0   74  \n",
       "2                1.0             0.0                 NaN   88  \n",
       "3                2.0             1.0                 0.0   66  \n",
       "4                NaN             NaN                 NaN   56  \n",
       "\n",
       "[5 rows x 41 columns]"
      ]
     },
     "execution_count": 119,
     "metadata": {},
     "output_type": "execute_result"
    }
   ],
   "source": [
    "latest_records.head()"
   ]
  },
  {
   "cell_type": "code",
   "execution_count": 120,
   "metadata": {},
   "outputs": [
    {
     "data": {
      "text/html": [
       "<div>\n",
       "<style scoped>\n",
       "    .dataframe tbody tr th:only-of-type {\n",
       "        vertical-align: middle;\n",
       "    }\n",
       "\n",
       "    .dataframe tbody tr th {\n",
       "        vertical-align: top;\n",
       "    }\n",
       "\n",
       "    .dataframe thead th {\n",
       "        text-align: right;\n",
       "    }\n",
       "</style>\n",
       "<table border=\"1\" class=\"dataframe\">\n",
       "  <thead>\n",
       "    <tr style=\"text-align: right;\">\n",
       "      <th></th>\n",
       "      <th>vision_imp</th>\n",
       "      <th>hearing_imp</th>\n",
       "      <th>q1_pregnant</th>\n",
       "      <th>q2_bcs_past_year</th>\n",
       "      <th>q3_ccs_past_year</th>\n",
       "      <th>q4_rate_health</th>\n",
       "      <th>q8_beliefs</th>\n",
       "      <th>q10_food_insc</th>\n",
       "      <th>q11_fruit_veg</th>\n",
       "      <th>q12_exercise</th>\n",
       "      <th>...</th>\n",
       "      <th>q14_anxious</th>\n",
       "      <th>q15_bh_total_score</th>\n",
       "      <th>q16_therapy</th>\n",
       "      <th>q17_sleep</th>\n",
       "      <th>q18_substances</th>\n",
       "      <th>q19_support</th>\n",
       "      <th>q20_meds_np</th>\n",
       "      <th>q21_meds_np_prov</th>\n",
       "      <th>q22_meds_diff</th>\n",
       "      <th>q23_dme</th>\n",
       "    </tr>\n",
       "  </thead>\n",
       "  <tbody>\n",
       "    <tr>\n",
       "      <th>0</th>\n",
       "      <td>1.0</td>\n",
       "      <td>1.0</td>\n",
       "      <td>NaN</td>\n",
       "      <td>NaN</td>\n",
       "      <td>NaN</td>\n",
       "      <td>4.0</td>\n",
       "      <td>1.0</td>\n",
       "      <td>2.0</td>\n",
       "      <td>2.0</td>\n",
       "      <td>1.0</td>\n",
       "      <td>...</td>\n",
       "      <td>4.0</td>\n",
       "      <td>1.0</td>\n",
       "      <td>0.0</td>\n",
       "      <td>0.0</td>\n",
       "      <td>0.0</td>\n",
       "      <td>1.0</td>\n",
       "      <td>0.0</td>\n",
       "      <td>1.0</td>\n",
       "      <td>0.0</td>\n",
       "      <td>2.0</td>\n",
       "    </tr>\n",
       "    <tr>\n",
       "      <th>1</th>\n",
       "      <td>1.0</td>\n",
       "      <td>1.0</td>\n",
       "      <td>1.0</td>\n",
       "      <td>1.0</td>\n",
       "      <td>1.0</td>\n",
       "      <td>3.0</td>\n",
       "      <td>1.0</td>\n",
       "      <td>2.0</td>\n",
       "      <td>5.0</td>\n",
       "      <td>1.0</td>\n",
       "      <td>...</td>\n",
       "      <td>4.0</td>\n",
       "      <td>0.0</td>\n",
       "      <td>0.0</td>\n",
       "      <td>0.0</td>\n",
       "      <td>0.0</td>\n",
       "      <td>1.0</td>\n",
       "      <td>0.0</td>\n",
       "      <td>0.0</td>\n",
       "      <td>0.0</td>\n",
       "      <td>1.0</td>\n",
       "    </tr>\n",
       "    <tr>\n",
       "      <th>2</th>\n",
       "      <td>1.0</td>\n",
       "      <td>1.0</td>\n",
       "      <td>NaN</td>\n",
       "      <td>NaN</td>\n",
       "      <td>NaN</td>\n",
       "      <td>3.0</td>\n",
       "      <td>1.0</td>\n",
       "      <td>3.0</td>\n",
       "      <td>5.0</td>\n",
       "      <td>2.0</td>\n",
       "      <td>...</td>\n",
       "      <td>4.0</td>\n",
       "      <td>1.0</td>\n",
       "      <td>0.0</td>\n",
       "      <td>0.0</td>\n",
       "      <td>1.0</td>\n",
       "      <td>1.0</td>\n",
       "      <td>1.0</td>\n",
       "      <td>1.0</td>\n",
       "      <td>0.0</td>\n",
       "      <td>0.0</td>\n",
       "    </tr>\n",
       "    <tr>\n",
       "      <th>3</th>\n",
       "      <td>1.0</td>\n",
       "      <td>1.0</td>\n",
       "      <td>NaN</td>\n",
       "      <td>2.0</td>\n",
       "      <td>1.0</td>\n",
       "      <td>4.0</td>\n",
       "      <td>1.0</td>\n",
       "      <td>3.0</td>\n",
       "      <td>5.0</td>\n",
       "      <td>5.0</td>\n",
       "      <td>...</td>\n",
       "      <td>3.0</td>\n",
       "      <td>3.0</td>\n",
       "      <td>0.0</td>\n",
       "      <td>2.0</td>\n",
       "      <td>0.0</td>\n",
       "      <td>1.0</td>\n",
       "      <td>0.0</td>\n",
       "      <td>0.0</td>\n",
       "      <td>0.0</td>\n",
       "      <td>1.0</td>\n",
       "    </tr>\n",
       "    <tr>\n",
       "      <th>4</th>\n",
       "      <td>NaN</td>\n",
       "      <td>NaN</td>\n",
       "      <td>NaN</td>\n",
       "      <td>NaN</td>\n",
       "      <td>NaN</td>\n",
       "      <td>NaN</td>\n",
       "      <td>NaN</td>\n",
       "      <td>NaN</td>\n",
       "      <td>NaN</td>\n",
       "      <td>NaN</td>\n",
       "      <td>...</td>\n",
       "      <td>NaN</td>\n",
       "      <td>NaN</td>\n",
       "      <td>0.0</td>\n",
       "      <td>NaN</td>\n",
       "      <td>NaN</td>\n",
       "      <td>1.0</td>\n",
       "      <td>0.0</td>\n",
       "      <td>1.0</td>\n",
       "      <td>0.0</td>\n",
       "      <td>NaN</td>\n",
       "    </tr>\n",
       "  </tbody>\n",
       "</table>\n",
       "<p>5 rows × 21 columns</p>\n",
       "</div>"
      ],
      "text/plain": [
       "   vision_imp  hearing_imp  q1_pregnant  q2_bcs_past_year  q3_ccs_past_year  \\\n",
       "0         1.0          1.0          NaN               NaN               NaN   \n",
       "1         1.0          1.0          1.0               1.0               1.0   \n",
       "2         1.0          1.0          NaN               NaN               NaN   \n",
       "3         1.0          1.0          NaN               2.0               1.0   \n",
       "4         NaN          NaN          NaN               NaN               NaN   \n",
       "\n",
       "   q4_rate_health  q8_beliefs  q10_food_insc  q11_fruit_veg  q12_exercise  \\\n",
       "0             4.0         1.0            2.0            2.0           1.0   \n",
       "1             3.0         1.0            2.0            5.0           1.0   \n",
       "2             3.0         1.0            3.0            5.0           2.0   \n",
       "3             4.0         1.0            3.0            5.0           5.0   \n",
       "4             NaN         NaN            NaN            NaN           NaN   \n",
       "\n",
       "   ...  q14_anxious  q15_bh_total_score  q16_therapy  q17_sleep  \\\n",
       "0  ...          4.0                 1.0          0.0        0.0   \n",
       "1  ...          4.0                 0.0          0.0        0.0   \n",
       "2  ...          4.0                 1.0          0.0        0.0   \n",
       "3  ...          3.0                 3.0          0.0        2.0   \n",
       "4  ...          NaN                 NaN          0.0        NaN   \n",
       "\n",
       "   q18_substances  q19_support  q20_meds_np  q21_meds_np_prov  q22_meds_diff  \\\n",
       "0             0.0          1.0          0.0               1.0            0.0   \n",
       "1             0.0          1.0          0.0               0.0            0.0   \n",
       "2             1.0          1.0          1.0               1.0            0.0   \n",
       "3             0.0          1.0          0.0               0.0            0.0   \n",
       "4             NaN          1.0          0.0               1.0            0.0   \n",
       "\n",
       "   q23_dme  \n",
       "0      2.0  \n",
       "1      1.0  \n",
       "2      0.0  \n",
       "3      1.0  \n",
       "4      NaN  \n",
       "\n",
       "[5 rows x 21 columns]"
      ]
     },
     "execution_count": 120,
     "metadata": {},
     "output_type": "execute_result"
    }
   ],
   "source": [
    "latest_records.iloc[:5,10:-10]"
   ]
  },
  {
   "cell_type": "code",
   "execution_count": 121,
   "metadata": {},
   "outputs": [],
   "source": [
    "latest_records.drop(['survey_date', 'date_of_birth'], axis=1, inplace=True)"
   ]
  },
  {
   "cell_type": "code",
   "execution_count": 122,
   "metadata": {},
   "outputs": [
    {
     "data": {
      "text/html": [
       "<div>\n",
       "<style scoped>\n",
       "    .dataframe tbody tr th:only-of-type {\n",
       "        vertical-align: middle;\n",
       "    }\n",
       "\n",
       "    .dataframe tbody tr th {\n",
       "        vertical-align: top;\n",
       "    }\n",
       "\n",
       "    .dataframe thead th {\n",
       "        text-align: right;\n",
       "    }\n",
       "</style>\n",
       "<table border=\"1\" class=\"dataframe\">\n",
       "  <thead>\n",
       "    <tr style=\"text-align: right;\">\n",
       "      <th></th>\n",
       "      <th>member_id</th>\n",
       "      <th>comp_form</th>\n",
       "      <th>gender</th>\n",
       "      <th>race</th>\n",
       "      <th>hispanic_latio</th>\n",
       "      <th>language</th>\n",
       "      <th>vision_imp</th>\n",
       "      <th>hearing_imp</th>\n",
       "      <th>q1_pregnant</th>\n",
       "      <th>q2_bcs_past_year</th>\n",
       "      <th>...</th>\n",
       "      <th>q24_seatbelts</th>\n",
       "      <th>q25_living_sit</th>\n",
       "      <th>q26_primary_care</th>\n",
       "      <th>q27_last_appt</th>\n",
       "      <th>q28_health_lit</th>\n",
       "      <th>q29_annual_scrn</th>\n",
       "      <th>q31_treat_changes</th>\n",
       "      <th>q32_pain_scale</th>\n",
       "      <th>q33_programs_avail</th>\n",
       "      <th>age</th>\n",
       "    </tr>\n",
       "  </thead>\n",
       "  <tbody>\n",
       "    <tr>\n",
       "      <th>count</th>\n",
       "      <td>4437.000000</td>\n",
       "      <td>4437.000000</td>\n",
       "      <td>4437.000000</td>\n",
       "      <td>4437.000000</td>\n",
       "      <td>4437.000000</td>\n",
       "      <td>4437.000000</td>\n",
       "      <td>4437.000000</td>\n",
       "      <td>4437.000000</td>\n",
       "      <td>4437.000000</td>\n",
       "      <td>4437.000000</td>\n",
       "      <td>...</td>\n",
       "      <td>4437.000000</td>\n",
       "      <td>4437.000000</td>\n",
       "      <td>4437.000000</td>\n",
       "      <td>4437.000000</td>\n",
       "      <td>4437.000000</td>\n",
       "      <td>4437.000000</td>\n",
       "      <td>4437.000000</td>\n",
       "      <td>4437.000000</td>\n",
       "      <td>4437.000000</td>\n",
       "      <td>4437.000000</td>\n",
       "    </tr>\n",
       "    <tr>\n",
       "      <th>mean</th>\n",
       "      <td>45928.699346</td>\n",
       "      <td>3.682443</td>\n",
       "      <td>1.968222</td>\n",
       "      <td>2.368041</td>\n",
       "      <td>1.186613</td>\n",
       "      <td>1.088348</td>\n",
       "      <td>1.316655</td>\n",
       "      <td>1.083164</td>\n",
       "      <td>1.007212</td>\n",
       "      <td>1.524228</td>\n",
       "      <td>...</td>\n",
       "      <td>0.832319</td>\n",
       "      <td>0.007663</td>\n",
       "      <td>1.965066</td>\n",
       "      <td>1.127338</td>\n",
       "      <td>1.261663</td>\n",
       "      <td>1.805048</td>\n",
       "      <td>1.388551</td>\n",
       "      <td>0.843588</td>\n",
       "      <td>0.962362</td>\n",
       "      <td>64.231237</td>\n",
       "    </tr>\n",
       "    <tr>\n",
       "      <th>std</th>\n",
       "      <td>28106.655957</td>\n",
       "      <td>0.914708</td>\n",
       "      <td>0.175429</td>\n",
       "      <td>2.221604</td>\n",
       "      <td>0.389644</td>\n",
       "      <td>0.303038</td>\n",
       "      <td>0.465224</td>\n",
       "      <td>0.276162</td>\n",
       "      <td>0.084627</td>\n",
       "      <td>0.499469</td>\n",
       "      <td>...</td>\n",
       "      <td>0.373625</td>\n",
       "      <td>0.087211</td>\n",
       "      <td>0.183632</td>\n",
       "      <td>0.407618</td>\n",
       "      <td>0.439590</td>\n",
       "      <td>0.396208</td>\n",
       "      <td>0.487476</td>\n",
       "      <td>0.363286</td>\n",
       "      <td>0.190341</td>\n",
       "      <td>12.746371</td>\n",
       "    </tr>\n",
       "    <tr>\n",
       "      <th>min</th>\n",
       "      <td>13.000000</td>\n",
       "      <td>1.000000</td>\n",
       "      <td>1.000000</td>\n",
       "      <td>1.000000</td>\n",
       "      <td>1.000000</td>\n",
       "      <td>1.000000</td>\n",
       "      <td>1.000000</td>\n",
       "      <td>1.000000</td>\n",
       "      <td>1.000000</td>\n",
       "      <td>1.000000</td>\n",
       "      <td>...</td>\n",
       "      <td>0.000000</td>\n",
       "      <td>0.000000</td>\n",
       "      <td>1.000000</td>\n",
       "      <td>1.000000</td>\n",
       "      <td>1.000000</td>\n",
       "      <td>1.000000</td>\n",
       "      <td>1.000000</td>\n",
       "      <td>0.000000</td>\n",
       "      <td>0.000000</td>\n",
       "      <td>23.000000</td>\n",
       "    </tr>\n",
       "    <tr>\n",
       "      <th>25%</th>\n",
       "      <td>20572.000000</td>\n",
       "      <td>4.000000</td>\n",
       "      <td>2.000000</td>\n",
       "      <td>1.000000</td>\n",
       "      <td>1.000000</td>\n",
       "      <td>1.000000</td>\n",
       "      <td>1.000000</td>\n",
       "      <td>1.000000</td>\n",
       "      <td>1.000000</td>\n",
       "      <td>1.000000</td>\n",
       "      <td>...</td>\n",
       "      <td>1.000000</td>\n",
       "      <td>0.000000</td>\n",
       "      <td>2.000000</td>\n",
       "      <td>1.000000</td>\n",
       "      <td>1.000000</td>\n",
       "      <td>2.000000</td>\n",
       "      <td>1.000000</td>\n",
       "      <td>1.000000</td>\n",
       "      <td>1.000000</td>\n",
       "      <td>57.000000</td>\n",
       "    </tr>\n",
       "    <tr>\n",
       "      <th>50%</th>\n",
       "      <td>44252.000000</td>\n",
       "      <td>4.000000</td>\n",
       "      <td>2.000000</td>\n",
       "      <td>1.000000</td>\n",
       "      <td>1.000000</td>\n",
       "      <td>1.000000</td>\n",
       "      <td>1.000000</td>\n",
       "      <td>1.000000</td>\n",
       "      <td>1.000000</td>\n",
       "      <td>2.000000</td>\n",
       "      <td>...</td>\n",
       "      <td>1.000000</td>\n",
       "      <td>0.000000</td>\n",
       "      <td>2.000000</td>\n",
       "      <td>1.000000</td>\n",
       "      <td>1.000000</td>\n",
       "      <td>2.000000</td>\n",
       "      <td>1.000000</td>\n",
       "      <td>1.000000</td>\n",
       "      <td>1.000000</td>\n",
       "      <td>65.000000</td>\n",
       "    </tr>\n",
       "    <tr>\n",
       "      <th>75%</th>\n",
       "      <td>72829.000000</td>\n",
       "      <td>4.000000</td>\n",
       "      <td>2.000000</td>\n",
       "      <td>2.000000</td>\n",
       "      <td>1.000000</td>\n",
       "      <td>1.000000</td>\n",
       "      <td>2.000000</td>\n",
       "      <td>1.000000</td>\n",
       "      <td>1.000000</td>\n",
       "      <td>2.000000</td>\n",
       "      <td>...</td>\n",
       "      <td>1.000000</td>\n",
       "      <td>0.000000</td>\n",
       "      <td>2.000000</td>\n",
       "      <td>1.000000</td>\n",
       "      <td>2.000000</td>\n",
       "      <td>2.000000</td>\n",
       "      <td>2.000000</td>\n",
       "      <td>1.000000</td>\n",
       "      <td>1.000000</td>\n",
       "      <td>73.000000</td>\n",
       "    </tr>\n",
       "    <tr>\n",
       "      <th>max</th>\n",
       "      <td>90770.000000</td>\n",
       "      <td>4.000000</td>\n",
       "      <td>2.000000</td>\n",
       "      <td>7.000000</td>\n",
       "      <td>2.000000</td>\n",
       "      <td>3.000000</td>\n",
       "      <td>2.000000</td>\n",
       "      <td>2.000000</td>\n",
       "      <td>2.000000</td>\n",
       "      <td>2.000000</td>\n",
       "      <td>...</td>\n",
       "      <td>1.000000</td>\n",
       "      <td>1.000000</td>\n",
       "      <td>2.000000</td>\n",
       "      <td>3.000000</td>\n",
       "      <td>2.000000</td>\n",
       "      <td>2.000000</td>\n",
       "      <td>2.000000</td>\n",
       "      <td>1.000000</td>\n",
       "      <td>1.000000</td>\n",
       "      <td>101.000000</td>\n",
       "    </tr>\n",
       "  </tbody>\n",
       "</table>\n",
       "<p>8 rows × 37 columns</p>\n",
       "</div>"
      ],
      "text/plain": [
       "          member_id    comp_form       gender         race  hispanic_latio  \\\n",
       "count   4437.000000  4437.000000  4437.000000  4437.000000     4437.000000   \n",
       "mean   45928.699346     3.682443     1.968222     2.368041        1.186613   \n",
       "std    28106.655957     0.914708     0.175429     2.221604        0.389644   \n",
       "min       13.000000     1.000000     1.000000     1.000000        1.000000   \n",
       "25%    20572.000000     4.000000     2.000000     1.000000        1.000000   \n",
       "50%    44252.000000     4.000000     2.000000     1.000000        1.000000   \n",
       "75%    72829.000000     4.000000     2.000000     2.000000        1.000000   \n",
       "max    90770.000000     4.000000     2.000000     7.000000        2.000000   \n",
       "\n",
       "          language   vision_imp  hearing_imp  q1_pregnant  q2_bcs_past_year  \\\n",
       "count  4437.000000  4437.000000  4437.000000  4437.000000       4437.000000   \n",
       "mean      1.088348     1.316655     1.083164     1.007212          1.524228   \n",
       "std       0.303038     0.465224     0.276162     0.084627          0.499469   \n",
       "min       1.000000     1.000000     1.000000     1.000000          1.000000   \n",
       "25%       1.000000     1.000000     1.000000     1.000000          1.000000   \n",
       "50%       1.000000     1.000000     1.000000     1.000000          2.000000   \n",
       "75%       1.000000     2.000000     1.000000     1.000000          2.000000   \n",
       "max       3.000000     2.000000     2.000000     2.000000          2.000000   \n",
       "\n",
       "       ...  q24_seatbelts  q25_living_sit  q26_primary_care  q27_last_appt  \\\n",
       "count  ...    4437.000000     4437.000000       4437.000000    4437.000000   \n",
       "mean   ...       0.832319        0.007663          1.965066       1.127338   \n",
       "std    ...       0.373625        0.087211          0.183632       0.407618   \n",
       "min    ...       0.000000        0.000000          1.000000       1.000000   \n",
       "25%    ...       1.000000        0.000000          2.000000       1.000000   \n",
       "50%    ...       1.000000        0.000000          2.000000       1.000000   \n",
       "75%    ...       1.000000        0.000000          2.000000       1.000000   \n",
       "max    ...       1.000000        1.000000          2.000000       3.000000   \n",
       "\n",
       "       q28_health_lit  q29_annual_scrn  q31_treat_changes  q32_pain_scale  \\\n",
       "count     4437.000000      4437.000000        4437.000000     4437.000000   \n",
       "mean         1.261663         1.805048           1.388551        0.843588   \n",
       "std          0.439590         0.396208           0.487476        0.363286   \n",
       "min          1.000000         1.000000           1.000000        0.000000   \n",
       "25%          1.000000         2.000000           1.000000        1.000000   \n",
       "50%          1.000000         2.000000           1.000000        1.000000   \n",
       "75%          2.000000         2.000000           2.000000        1.000000   \n",
       "max          2.000000         2.000000           2.000000        1.000000   \n",
       "\n",
       "       q33_programs_avail          age  \n",
       "count         4437.000000  4437.000000  \n",
       "mean             0.962362    64.231237  \n",
       "std              0.190341    12.746371  \n",
       "min              0.000000    23.000000  \n",
       "25%              1.000000    57.000000  \n",
       "50%              1.000000    65.000000  \n",
       "75%              1.000000    73.000000  \n",
       "max              1.000000   101.000000  \n",
       "\n",
       "[8 rows x 37 columns]"
      ]
     },
     "execution_count": 122,
     "metadata": {},
     "output_type": "execute_result"
    }
   ],
   "source": [
    "data = latest_records.copy()\n",
    "data.dropna(inplace=True)\n",
    "data.reset_index(drop=True, inplace=True)\n",
    "data.describe()"
   ]
  },
  {
   "cell_type": "markdown",
   "metadata": {},
   "source": [
    "#### Transform Quantiative Features"
   ]
  },
  {
   "cell_type": "code",
   "execution_count": 123,
   "metadata": {},
   "outputs": [
    {
     "data": {
      "text/html": [
       "<div>\n",
       "<style scoped>\n",
       "    .dataframe tbody tr th:only-of-type {\n",
       "        vertical-align: middle;\n",
       "    }\n",
       "\n",
       "    .dataframe tbody tr th {\n",
       "        vertical-align: top;\n",
       "    }\n",
       "\n",
       "    .dataframe thead th {\n",
       "        text-align: right;\n",
       "    }\n",
       "</style>\n",
       "<table border=\"1\" class=\"dataframe\">\n",
       "  <thead>\n",
       "    <tr style=\"text-align: right;\">\n",
       "      <th></th>\n",
       "      <th>height</th>\n",
       "      <th>weight</th>\n",
       "      <th>age</th>\n",
       "    </tr>\n",
       "  </thead>\n",
       "  <tbody>\n",
       "    <tr>\n",
       "      <th>count</th>\n",
       "      <td>4437.000000</td>\n",
       "      <td>4437.000000</td>\n",
       "      <td>4437.000000</td>\n",
       "    </tr>\n",
       "    <tr>\n",
       "      <th>mean</th>\n",
       "      <td>63.505071</td>\n",
       "      <td>213.521298</td>\n",
       "      <td>64.231237</td>\n",
       "    </tr>\n",
       "    <tr>\n",
       "      <th>std</th>\n",
       "      <td>4.147341</td>\n",
       "      <td>1786.426192</td>\n",
       "      <td>12.746371</td>\n",
       "    </tr>\n",
       "    <tr>\n",
       "      <th>min</th>\n",
       "      <td>2.000000</td>\n",
       "      <td>1.000000</td>\n",
       "      <td>23.000000</td>\n",
       "    </tr>\n",
       "    <tr>\n",
       "      <th>25%</th>\n",
       "      <td>62.000000</td>\n",
       "      <td>150.000000</td>\n",
       "      <td>57.000000</td>\n",
       "    </tr>\n",
       "    <tr>\n",
       "      <th>50%</th>\n",
       "      <td>63.000000</td>\n",
       "      <td>180.000000</td>\n",
       "      <td>65.000000</td>\n",
       "    </tr>\n",
       "    <tr>\n",
       "      <th>75%</th>\n",
       "      <td>66.000000</td>\n",
       "      <td>215.000000</td>\n",
       "      <td>73.000000</td>\n",
       "    </tr>\n",
       "    <tr>\n",
       "      <th>max</th>\n",
       "      <td>96.000000</td>\n",
       "      <td>119120.000000</td>\n",
       "      <td>101.000000</td>\n",
       "    </tr>\n",
       "  </tbody>\n",
       "</table>\n",
       "</div>"
      ],
      "text/plain": [
       "            height         weight          age\n",
       "count  4437.000000    4437.000000  4437.000000\n",
       "mean     63.505071     213.521298    64.231237\n",
       "std       4.147341    1786.426192    12.746371\n",
       "min       2.000000       1.000000    23.000000\n",
       "25%      62.000000     150.000000    57.000000\n",
       "50%      63.000000     180.000000    65.000000\n",
       "75%      66.000000     215.000000    73.000000\n",
       "max      96.000000  119120.000000   101.000000"
      ]
     },
     "execution_count": 123,
     "metadata": {},
     "output_type": "execute_result"
    }
   ],
   "source": [
    "data['height'] = data['height'].astype(int)\n",
    "data['weight'] = data['weight'].astype(int)\n",
    "numerical_features = ['height', 'weight', 'age']\n",
    "numerical_data = data[data.columns[data.columns.isin(numerical_features)]]\n",
    "numerical_data.describe(include='all')"
   ]
  },
  {
   "cell_type": "code",
   "execution_count": 124,
   "metadata": {},
   "outputs": [],
   "source": [
    "numerical_data = numerical_data[(numerical_data['height'] > 24) & \n",
    "                                (numerical_data['weight'] > 50) & \n",
    "                                (numerical_data['weight'] < 800)]"
   ]
  },
  {
   "cell_type": "code",
   "execution_count": 125,
   "metadata": {},
   "outputs": [
    {
     "data": {
      "text/html": [
       "<div>\n",
       "<style scoped>\n",
       "    .dataframe tbody tr th:only-of-type {\n",
       "        vertical-align: middle;\n",
       "    }\n",
       "\n",
       "    .dataframe tbody tr th {\n",
       "        vertical-align: top;\n",
       "    }\n",
       "\n",
       "    .dataframe thead th {\n",
       "        text-align: right;\n",
       "    }\n",
       "</style>\n",
       "<table border=\"1\" class=\"dataframe\">\n",
       "  <thead>\n",
       "    <tr style=\"text-align: right;\">\n",
       "      <th></th>\n",
       "      <th>height</th>\n",
       "      <th>weight</th>\n",
       "      <th>age</th>\n",
       "    </tr>\n",
       "  </thead>\n",
       "  <tbody>\n",
       "    <tr>\n",
       "      <th>count</th>\n",
       "      <td>4426.000000</td>\n",
       "      <td>4426.000000</td>\n",
       "      <td>4426.000000</td>\n",
       "    </tr>\n",
       "    <tr>\n",
       "      <th>mean</th>\n",
       "      <td>63.582241</td>\n",
       "      <td>186.453909</td>\n",
       "      <td>64.223226</td>\n",
       "    </tr>\n",
       "    <tr>\n",
       "      <th>std</th>\n",
       "      <td>3.611112</td>\n",
       "      <td>52.712513</td>\n",
       "      <td>12.747894</td>\n",
       "    </tr>\n",
       "    <tr>\n",
       "      <th>min</th>\n",
       "      <td>40.000000</td>\n",
       "      <td>70.000000</td>\n",
       "      <td>23.000000</td>\n",
       "    </tr>\n",
       "    <tr>\n",
       "      <th>25%</th>\n",
       "      <td>62.000000</td>\n",
       "      <td>150.000000</td>\n",
       "      <td>57.000000</td>\n",
       "    </tr>\n",
       "    <tr>\n",
       "      <th>50%</th>\n",
       "      <td>63.000000</td>\n",
       "      <td>180.000000</td>\n",
       "      <td>65.000000</td>\n",
       "    </tr>\n",
       "    <tr>\n",
       "      <th>75%</th>\n",
       "      <td>66.000000</td>\n",
       "      <td>215.000000</td>\n",
       "      <td>73.000000</td>\n",
       "    </tr>\n",
       "    <tr>\n",
       "      <th>max</th>\n",
       "      <td>96.000000</td>\n",
       "      <td>510.000000</td>\n",
       "      <td>101.000000</td>\n",
       "    </tr>\n",
       "  </tbody>\n",
       "</table>\n",
       "</div>"
      ],
      "text/plain": [
       "            height       weight          age\n",
       "count  4426.000000  4426.000000  4426.000000\n",
       "mean     63.582241   186.453909    64.223226\n",
       "std       3.611112    52.712513    12.747894\n",
       "min      40.000000    70.000000    23.000000\n",
       "25%      62.000000   150.000000    57.000000\n",
       "50%      63.000000   180.000000    65.000000\n",
       "75%      66.000000   215.000000    73.000000\n",
       "max      96.000000   510.000000   101.000000"
      ]
     },
     "execution_count": 125,
     "metadata": {},
     "output_type": "execute_result"
    }
   ],
   "source": [
    "numerical_data.describe()"
   ]
  },
  {
   "cell_type": "code",
   "execution_count": 126,
   "metadata": {},
   "outputs": [
    {
     "data": {
      "image/png": "[encoded data removed]",
      "text/plain": [
       "<Figure size 1440x360 with 3 Axes>"
      ]
     },
     "metadata": {},
     "output_type": "display_data"
    }
   ],
   "source": [
    "fig, ax = plt.subplots(nrows=1, ncols=3)\n",
    "fig.set_size_inches(20, 5)\n",
    "\n",
    "numerical_features = ['height', 'weight', 'age']\n",
    "\n",
    "i = 0\n",
    "for i in range(3):\n",
    "    numerical_data[numerical_features[i]] =  numerical_data[numerical_features[i]].astype(int)\n",
    "    ax[i].hist(numerical_data[numerical_features[i]].values,bins=20)\n",
    "    ax[i].set_title(f'Histogram of {numerical_features[i]}')\n",
    "    i+=1"
   ]
  },
  {
   "cell_type": "code",
   "execution_count": 127,
   "metadata": {},
   "outputs": [],
   "source": [
    "height_mean = np.mean(numerical_data['height'])\n",
    "weight_mean = np.mean(numerical_data['weight'])\n",
    "age_mean = np.mean(numerical_data['age'])\n",
    "height_std = np.std(numerical_data['height'])\n",
    "weight_std = np.std(numerical_data['weight'])\n",
    "age_std = np.std(numerical_data['age'])"
   ]
  },
  {
   "cell_type": "code",
   "execution_count": 128,
   "metadata": {},
   "outputs": [],
   "source": [
    "def random_var_generator(mean, std, col, df):\n",
    "    for i in range(len(df)):\n",
    "        if pd.isnull(df.loc[i,col]):\n",
    "            df.loc[i,col] = np.random.normal(mean, std)\n",
    "    return df\n",
    "\n",
    "latest_records = random_var_generator(height_mean, height_std, 'height', latest_records)\n",
    "latest_records = random_var_generator(weight_mean, weight_std, 'weight', latest_records)\n",
    "latest_records = random_var_generator(age_mean, age_std, 'age', latest_records)"
   ]
  },
  {
   "cell_type": "code",
   "execution_count": 129,
   "metadata": {},
   "outputs": [],
   "source": [
    "latest_records['height'] = latest_records['height'].astype(int)\n",
    "latest_records['weight'] = latest_records['weight'].astype(int)"
   ]
  },
  {
   "cell_type": "code",
   "execution_count": 130,
   "metadata": {},
   "outputs": [],
   "source": [
    "latest_records = latest_records[(latest_records['height'] > 24) & \n",
    "                                (latest_records['weight'] > 50) & \n",
    "                                (latest_records['weight'] < 800)]"
   ]
  },
  {
   "cell_type": "code",
   "execution_count": 131,
   "metadata": {},
   "outputs": [],
   "source": [
    "latest_records.reset_index(drop=True, inplace=True)"
   ]
  },
  {
   "cell_type": "markdown",
   "metadata": {},
   "source": [
    "#### Transform Categorical Features"
   ]
  },
  {
   "cell_type": "code",
   "execution_count": 132,
   "metadata": {},
   "outputs": [
    {
     "data": {
      "text/plain": [
       "Index(['member_id', 'comp_form', 'gender', 'race', 'hispanic_latio',\n",
       "       'language', 'vision_imp', 'hearing_imp', 'q1_pregnant',\n",
       "       'q2_bcs_past_year', 'q3_ccs_past_year', 'q4_rate_health', 'q8_beliefs',\n",
       "       'q10_food_insc', 'q11_fruit_veg', 'q12_exercise', 'q13_stress',\n",
       "       'q14_anxious', 'q15_bh_total_score', 'q16_therapy', 'q17_sleep',\n",
       "       'q18_substances', 'q19_support', 'q20_meds_np', 'q21_meds_np_prov',\n",
       "       'q22_meds_diff', 'q23_dme', 'q24_seatbelts', 'q25_living_sit',\n",
       "       'q26_primary_care', 'q27_last_appt', 'q28_health_lit',\n",
       "       'q31_treat_changes', 'q32_pain_scale', 'q33_programs_avail'],\n",
       "      dtype='object')"
      ]
     },
     "execution_count": 132,
     "metadata": {},
     "output_type": "execute_result"
    }
   ],
   "source": [
    "categorical_data = data[data.columns[~data.columns.isin(numerical_features)]]\n",
    "categorical_data = categorical_data[categorical_data.columns[~categorical_data.columns.isin(['q29_annual_scrn'])]]\n",
    "categorical_data.columns"
   ]
  },
  {
   "cell_type": "code",
   "execution_count": 133,
   "metadata": {},
   "outputs": [
    {
     "data": {
      "text/plain": [
       "[1.0, 2.0]"
      ]
     },
     "execution_count": 133,
     "metadata": {},
     "output_type": "execute_result"
    }
   ],
   "source": [
    "cats = defaultdict(list)\n",
    "props = defaultdict(list)\n",
    "\n",
    "for column in categorical_data.columns:\n",
    "    data = categorical_data.groupby(column).size().reset_index(name='count')\n",
    "    for i in range(len(data)):\n",
    "        cats[column].append(data.loc[i,column])\n",
    "        props[column].append(data.loc[i, 'count']/sum(data['count']))\n",
    "        \n",
    "cats['gender']"
   ]
  },
  {
   "cell_type": "code",
   "execution_count": 134,
   "metadata": {},
   "outputs": [
    {
     "data": {
      "text/plain": [
       "[0.03177822853279243, 0.9682217714672076]"
      ]
     },
     "execution_count": 134,
     "metadata": {},
     "output_type": "execute_result"
    }
   ],
   "source": [
    "props['gender']"
   ]
  },
  {
   "cell_type": "code",
   "execution_count": 135,
   "metadata": {},
   "outputs": [],
   "source": [
    "def random_cat_generator(df, props_dict, cats_dict):\n",
    "    for key in cats_dict.keys():\n",
    "        props = props_dict[key]\n",
    "        cats = cats_dict[key]\n",
    "        for i in range(len(df)):\n",
    "            if pd.isnull(df.loc[i, key]):\n",
    "                df.loc[i, key] = random.choices(cats, weights=props, k=1)\n",
    "    return df"
   ]
  },
  {
   "cell_type": "code",
   "execution_count": 136,
   "metadata": {},
   "outputs": [
    {
     "name": "stderr",
     "output_type": "stream",
     "text": [
      "/opt/anaconda3/lib/python3.8/site-packages/pandas/core/indexing.py:966: SettingWithCopyWarning: \n",
      "A value is trying to be set on a copy of a slice from a DataFrame.\n",
      "Try using .loc[row_indexer,col_indexer] = value instead\n",
      "\n",
      "See the caveats in the documentation: https://pandas.pydata.org/pandas-docs/stable/user_guide/indexing.html#returning-a-view-versus-a-copy\n",
      "  self.obj[item] = s\n"
     ]
    },
    {
     "data": {
      "text/plain": [
       "member_id                0\n",
       "comp_form                0\n",
       "gender                   0\n",
       "race                     0\n",
       "hispanic_latio           0\n",
       "language                 0\n",
       "height                   0\n",
       "weight                   0\n",
       "vision_imp               0\n",
       "hearing_imp              0\n",
       "q1_pregnant              0\n",
       "q2_bcs_past_year         0\n",
       "q3_ccs_past_year         0\n",
       "q4_rate_health           0\n",
       "q8_beliefs               0\n",
       "q10_food_insc            0\n",
       "q11_fruit_veg            0\n",
       "q12_exercise             0\n",
       "q13_stress               0\n",
       "q14_anxious              0\n",
       "q15_bh_total_score       0\n",
       "q16_therapy              0\n",
       "q17_sleep                0\n",
       "q18_substances           0\n",
       "q19_support              0\n",
       "q20_meds_np              0\n",
       "q21_meds_np_prov         0\n",
       "q22_meds_diff            0\n",
       "q23_dme                  0\n",
       "q24_seatbelts            0\n",
       "q25_living_sit           0\n",
       "q26_primary_care         0\n",
       "q27_last_appt            0\n",
       "q28_health_lit           0\n",
       "q29_annual_scrn       3888\n",
       "q31_treat_changes        0\n",
       "q32_pain_scale           0\n",
       "q33_programs_avail       0\n",
       "age                      0\n",
       "dtype: int64"
      ]
     },
     "execution_count": 136,
     "metadata": {},
     "output_type": "execute_result"
    }
   ],
   "source": [
    "latest_records = random_cat_generator(latest_records, props, cats)\n",
    "latest_records.isnull().sum()"
   ]
  },
  {
   "cell_type": "code",
   "execution_count": 137,
   "metadata": {},
   "outputs": [
    {
     "name": "stderr",
     "output_type": "stream",
     "text": [
      "<ipython-input-137-d1173fadc6de>:1: SettingWithCopyWarning: \n",
      "A value is trying to be set on a copy of a slice from a DataFrame\n",
      "\n",
      "See the caveats in the documentation: https://pandas.pydata.org/pandas-docs/stable/user_guide/indexing.html#returning-a-view-versus-a-copy\n",
      "  latest_records.dropna(inplace=True)\n"
     ]
    },
    {
     "data": {
      "text/plain": [
       "member_id             0\n",
       "comp_form             0\n",
       "gender                0\n",
       "race                  0\n",
       "hispanic_latio        0\n",
       "language              0\n",
       "height                0\n",
       "weight                0\n",
       "vision_imp            0\n",
       "hearing_imp           0\n",
       "q1_pregnant           0\n",
       "q2_bcs_past_year      0\n",
       "q3_ccs_past_year      0\n",
       "q4_rate_health        0\n",
       "q8_beliefs            0\n",
       "q10_food_insc         0\n",
       "q11_fruit_veg         0\n",
       "q12_exercise          0\n",
       "q13_stress            0\n",
       "q14_anxious           0\n",
       "q15_bh_total_score    0\n",
       "q16_therapy           0\n",
       "q17_sleep             0\n",
       "q18_substances        0\n",
       "q19_support           0\n",
       "q20_meds_np           0\n",
       "q21_meds_np_prov      0\n",
       "q22_meds_diff         0\n",
       "q23_dme               0\n",
       "q24_seatbelts         0\n",
       "q25_living_sit        0\n",
       "q26_primary_care      0\n",
       "q27_last_appt         0\n",
       "q28_health_lit        0\n",
       "q29_annual_scrn       0\n",
       "q31_treat_changes     0\n",
       "q32_pain_scale        0\n",
       "q33_programs_avail    0\n",
       "age                   0\n",
       "dtype: int64"
      ]
     },
     "execution_count": 137,
     "metadata": {},
     "output_type": "execute_result"
    }
   ],
   "source": [
    "latest_records.dropna(inplace=True)\n",
    "latest_records.reset_index(drop=True)\n",
    "latest_records.isnull().sum()"
   ]
  },
  {
   "cell_type": "code",
   "execution_count": null,
   "metadata": {},
   "outputs": [],
   "source": []
  },
  {
   "cell_type": "markdown",
   "metadata": {},
   "source": [
    "## EDA"
   ]
  },
  {
   "cell_type": "code",
   "execution_count": 138,
   "metadata": {},
   "outputs": [
    {
     "data": {
      "text/html": [
       "<div>\n",
       "<style scoped>\n",
       "    .dataframe tbody tr th:only-of-type {\n",
       "        vertical-align: middle;\n",
       "    }\n",
       "\n",
       "    .dataframe tbody tr th {\n",
       "        vertical-align: top;\n",
       "    }\n",
       "\n",
       "    .dataframe thead th {\n",
       "        text-align: right;\n",
       "    }\n",
       "</style>\n",
       "<table border=\"1\" class=\"dataframe\">\n",
       "  <thead>\n",
       "    <tr style=\"text-align: right;\">\n",
       "      <th></th>\n",
       "      <th>member_id</th>\n",
       "      <th>comp_form</th>\n",
       "      <th>gender</th>\n",
       "      <th>race</th>\n",
       "      <th>hispanic_latio</th>\n",
       "      <th>language</th>\n",
       "      <th>height</th>\n",
       "      <th>weight</th>\n",
       "      <th>vision_imp</th>\n",
       "      <th>hearing_imp</th>\n",
       "      <th>...</th>\n",
       "      <th>q24_seatbelts</th>\n",
       "      <th>q25_living_sit</th>\n",
       "      <th>q26_primary_care</th>\n",
       "      <th>q27_last_appt</th>\n",
       "      <th>q28_health_lit</th>\n",
       "      <th>q29_annual_scrn</th>\n",
       "      <th>q31_treat_changes</th>\n",
       "      <th>q32_pain_scale</th>\n",
       "      <th>q33_programs_avail</th>\n",
       "      <th>age</th>\n",
       "    </tr>\n",
       "  </thead>\n",
       "  <tbody>\n",
       "    <tr>\n",
       "      <th>0</th>\n",
       "      <td>87518</td>\n",
       "      <td>4.0</td>\n",
       "      <td>2.0</td>\n",
       "      <td>1.0</td>\n",
       "      <td>1.0</td>\n",
       "      <td>1.0</td>\n",
       "      <td>63</td>\n",
       "      <td>180</td>\n",
       "      <td>1.0</td>\n",
       "      <td>1.0</td>\n",
       "      <td>...</td>\n",
       "      <td>1.0</td>\n",
       "      <td>0.0</td>\n",
       "      <td>2.0</td>\n",
       "      <td>1.0</td>\n",
       "      <td>2.0</td>\n",
       "      <td>2.0</td>\n",
       "      <td>1.0</td>\n",
       "      <td>1.0</td>\n",
       "      <td>1.0</td>\n",
       "      <td>70</td>\n",
       "    </tr>\n",
       "    <tr>\n",
       "      <th>1</th>\n",
       "      <td>16498</td>\n",
       "      <td>1.0</td>\n",
       "      <td>2.0</td>\n",
       "      <td>2.0</td>\n",
       "      <td>1.0</td>\n",
       "      <td>1.0</td>\n",
       "      <td>68</td>\n",
       "      <td>249</td>\n",
       "      <td>1.0</td>\n",
       "      <td>1.0</td>\n",
       "      <td>...</td>\n",
       "      <td>1.0</td>\n",
       "      <td>0.0</td>\n",
       "      <td>2.0</td>\n",
       "      <td>2.0</td>\n",
       "      <td>1.0</td>\n",
       "      <td>2.0</td>\n",
       "      <td>2.0</td>\n",
       "      <td>1.0</td>\n",
       "      <td>0.0</td>\n",
       "      <td>79</td>\n",
       "    </tr>\n",
       "    <tr>\n",
       "      <th>2</th>\n",
       "      <td>16500</td>\n",
       "      <td>4.0</td>\n",
       "      <td>1.0</td>\n",
       "      <td>7.0</td>\n",
       "      <td>2.0</td>\n",
       "      <td>1.0</td>\n",
       "      <td>67</td>\n",
       "      <td>120</td>\n",
       "      <td>1.0</td>\n",
       "      <td>1.0</td>\n",
       "      <td>...</td>\n",
       "      <td>1.0</td>\n",
       "      <td>0.0</td>\n",
       "      <td>2.0</td>\n",
       "      <td>1.0</td>\n",
       "      <td>2.0</td>\n",
       "      <td>2.0</td>\n",
       "      <td>1.0</td>\n",
       "      <td>1.0</td>\n",
       "      <td>1.0</td>\n",
       "      <td>46</td>\n",
       "    </tr>\n",
       "    <tr>\n",
       "      <th>3</th>\n",
       "      <td>16381</td>\n",
       "      <td>4.0</td>\n",
       "      <td>2.0</td>\n",
       "      <td>1.0</td>\n",
       "      <td>1.0</td>\n",
       "      <td>1.0</td>\n",
       "      <td>76</td>\n",
       "      <td>246</td>\n",
       "      <td>1.0</td>\n",
       "      <td>1.0</td>\n",
       "      <td>...</td>\n",
       "      <td>0.0</td>\n",
       "      <td>0.0</td>\n",
       "      <td>1.0</td>\n",
       "      <td>2.0</td>\n",
       "      <td>2.0</td>\n",
       "      <td>2.0</td>\n",
       "      <td>1.0</td>\n",
       "      <td>1.0</td>\n",
       "      <td>1.0</td>\n",
       "      <td>77</td>\n",
       "    </tr>\n",
       "    <tr>\n",
       "      <th>4</th>\n",
       "      <td>16383</td>\n",
       "      <td>1.0</td>\n",
       "      <td>2.0</td>\n",
       "      <td>2.0</td>\n",
       "      <td>1.0</td>\n",
       "      <td>1.0</td>\n",
       "      <td>67</td>\n",
       "      <td>196</td>\n",
       "      <td>1.0</td>\n",
       "      <td>1.0</td>\n",
       "      <td>...</td>\n",
       "      <td>1.0</td>\n",
       "      <td>0.0</td>\n",
       "      <td>2.0</td>\n",
       "      <td>2.0</td>\n",
       "      <td>1.0</td>\n",
       "      <td>1.0</td>\n",
       "      <td>1.0</td>\n",
       "      <td>1.0</td>\n",
       "      <td>1.0</td>\n",
       "      <td>62</td>\n",
       "    </tr>\n",
       "  </tbody>\n",
       "</table>\n",
       "<p>5 rows × 39 columns</p>\n",
       "</div>"
      ],
      "text/plain": [
       "   member_id  comp_form  gender  race  hispanic_latio  language  height  \\\n",
       "0      87518        4.0     2.0   1.0             1.0       1.0      63   \n",
       "1      16498        1.0     2.0   2.0             1.0       1.0      68   \n",
       "2      16500        4.0     1.0   7.0             2.0       1.0      67   \n",
       "3      16381        4.0     2.0   1.0             1.0       1.0      76   \n",
       "4      16383        1.0     2.0   2.0             1.0       1.0      67   \n",
       "\n",
       "   weight  vision_imp  hearing_imp  ...  q24_seatbelts  q25_living_sit  \\\n",
       "0     180         1.0          1.0  ...            1.0             0.0   \n",
       "1     249         1.0          1.0  ...            1.0             0.0   \n",
       "2     120         1.0          1.0  ...            1.0             0.0   \n",
       "3     246         1.0          1.0  ...            0.0             0.0   \n",
       "4     196         1.0          1.0  ...            1.0             0.0   \n",
       "\n",
       "   q26_primary_care  q27_last_appt  q28_health_lit  q29_annual_scrn  \\\n",
       "0               2.0            1.0             2.0              2.0   \n",
       "1               2.0            2.0             1.0              2.0   \n",
       "2               2.0            1.0             2.0              2.0   \n",
       "3               1.0            2.0             2.0              2.0   \n",
       "4               2.0            2.0             1.0              1.0   \n",
       "\n",
       "   q31_treat_changes  q32_pain_scale  q33_programs_avail  age  \n",
       "0                1.0             1.0                 1.0   70  \n",
       "1                2.0             1.0                 0.0   79  \n",
       "2                1.0             1.0                 1.0   46  \n",
       "3                1.0             1.0                 1.0   77  \n",
       "4                1.0             1.0                 1.0   62  \n",
       "\n",
       "[5 rows x 39 columns]"
      ]
     },
     "execution_count": 138,
     "metadata": {},
     "output_type": "execute_result"
    }
   ],
   "source": [
    "targeted_members = pd.merge(members, latest_records, how='inner', on='member_id')\n",
    "targeted_members.head()"
   ]
  },
  {
   "cell_type": "code",
   "execution_count": 139,
   "metadata": {},
   "outputs": [
    {
     "data": {
      "text/plain": [
       "2.0    17968\n",
       "1.0     5098\n",
       "Name: q29_annual_scrn, dtype: int64"
      ]
     },
     "execution_count": 139,
     "metadata": {},
     "output_type": "execute_result"
    }
   ],
   "source": [
    "targeted_members['q29_annual_scrn'].value_counts()"
   ]
  },
  {
   "cell_type": "code",
   "execution_count": 140,
   "metadata": {},
   "outputs": [
    {
     "data": {
      "text/plain": [
       "23066"
      ]
     },
     "execution_count": 140,
     "metadata": {},
     "output_type": "execute_result"
    }
   ],
   "source": [
    "len(targeted_members['q29_annual_scrn'])"
   ]
  },
  {
   "cell_type": "code",
   "execution_count": 141,
   "metadata": {},
   "outputs": [
    {
     "name": "stdout",
     "output_type": "stream",
     "text": [
      "The annual screening completion rate is 0.7789820515043787\n"
     ]
    }
   ],
   "source": [
    "screening_rate = len(targeted_members[targeted_members['q29_annual_scrn'] == 2.0])/len(targeted_members['q29_annual_scrn'])\n",
    "print(f'The annual screening completion rate is {screening_rate}')"
   ]
  },
  {
   "cell_type": "code",
   "execution_count": 142,
   "metadata": {},
   "outputs": [
    {
     "name": "stderr",
     "output_type": "stream",
     "text": [
      "/opt/anaconda3/lib/python3.8/site-packages/pandas/core/frame.py:3990: SettingWithCopyWarning: \n",
      "A value is trying to be set on a copy of a slice from a DataFrame\n",
      "\n",
      "See the caveats in the documentation: https://pandas.pydata.org/pandas-docs/stable/user_guide/indexing.html#returning-a-view-versus-a-copy\n",
      "  return super().drop(\n"
     ]
    }
   ],
   "source": [
    "latest_records.drop('member_id', axis=1, inplace=True)"
   ]
  },
  {
   "cell_type": "markdown",
   "metadata": {},
   "source": [
    "### Determine Important Featues for Modeling"
   ]
  },
  {
   "cell_type": "markdown",
   "metadata": {},
   "source": [
    "#### Reorder Ordinal Categories"
   ]
  },
  {
   "cell_type": "code",
   "execution_count": 143,
   "metadata": {},
   "outputs": [
    {
     "data": {
      "text/plain": [
       "['member_id',\n",
       " 'comp_form',\n",
       " 'race',\n",
       " 'language',\n",
       " 'q11_fruit_veg',\n",
       " 'q17_sleep',\n",
       " 'q18_substances',\n",
       " 'q21_meds_np_prov',\n",
       " 'q23_dme']"
      ]
     },
     "execution_count": 143,
     "metadata": {},
     "output_type": "execute_result"
    }
   ],
   "source": [
    "one_hot_cats = []\n",
    "ordinal_cats = ['q4_rate_health', 'q10_food_insc', 'q12_exercise', 'q13_stress', 'q14_anxious', 'q15_bh_total_score',\n",
    "               'q27_last_appt']\n",
    "\n",
    "for key in cats.keys():\n",
    "    if len(cats[key]) > 2 and key not in ordinal_cats:\n",
    "        one_hot_cats.append(key)\n",
    "        \n",
    "one_hot_cats"
   ]
  },
  {
   "cell_type": "code",
   "execution_count": 144,
   "metadata": {},
   "outputs": [
    {
     "name": "stdout",
     "output_type": "stream",
     "text": [
      "q4_rate_health: [1.0, 2.0, 3.0, 4.0, 5.0]\n",
      "q10_food_insc: [1.0, 2.0, 3.0]\n",
      "q12_exercise: [1.0, 2.0, 3.0, 4.0, 5.0]\n",
      "q13_stress: [1.0, 2.0, 3.0]\n",
      "q14_anxious: [1.0, 2.0, 3.0, 4.0]\n",
      "q15_bh_total_score: [0.0, 1.0, 2.0, 3.0, 4.0, 5.0, 6.0, 7.0, 8.0, 9.0, 10.0, 11.0, 12.0, 13.0, 14.0, 15.0, 16.0, 17.0, 18.0, 19.0, 20.0, 21.0, 22.0, 23.0, 24.0]\n",
      "q27_last_appt: [1.0, 2.0, 3.0]\n"
     ]
    }
   ],
   "source": [
    "for item in ordinal_cats:\n",
    "    print(f'{item}: {cats[item]}')"
   ]
  },
  {
   "cell_type": "code",
   "execution_count": 145,
   "metadata": {},
   "outputs": [],
   "source": [
    "df = latest_records.copy()\n",
    "df['q4_rate_health'] = df['q4_rate_health'].map({1.0: 5.0, 2.0: 4.0, 3.0: 2.0, 4.0: 1.0, 5.0: 0.0})\n",
    "df['q10_food_insc'] = df['q10_food_insc'].map({1.0: 3.0, 2.0:2.0, 3.0: 1.0})\n",
    "df['q12_exercise'] = df['q12_exercise'].map({5.0: 0.0, 1.0: 1.0, 2.0: 2.0, 3.0: 3.0, 4.0: 4.0})\n",
    "df['q13_stress'] = df['q13_stress'].map({1.0: 3.0, 2.0: 2.0, 3.0: 1.0})\n",
    "df['q14_anxious'] = df['q14_anxious'].map({1.0: 4.0, 2.0: 3.0, 3.0: 2.0, 4.0: 1.0})"
   ]
  },
  {
   "cell_type": "code",
   "execution_count": 146,
   "metadata": {},
   "outputs": [
    {
     "data": {
      "text/plain": [
       "comp_form             0\n",
       "gender                0\n",
       "race                  0\n",
       "hispanic_latio        0\n",
       "language              0\n",
       "height                0\n",
       "weight                0\n",
       "vision_imp            0\n",
       "hearing_imp           0\n",
       "q1_pregnant           0\n",
       "q2_bcs_past_year      0\n",
       "q3_ccs_past_year      0\n",
       "q4_rate_health        0\n",
       "q8_beliefs            0\n",
       "q10_food_insc         0\n",
       "q11_fruit_veg         0\n",
       "q12_exercise          0\n",
       "q13_stress            0\n",
       "q14_anxious           0\n",
       "q15_bh_total_score    0\n",
       "q16_therapy           0\n",
       "q17_sleep             0\n",
       "q18_substances        0\n",
       "q19_support           0\n",
       "q20_meds_np           0\n",
       "q21_meds_np_prov      0\n",
       "q22_meds_diff         0\n",
       "q23_dme               0\n",
       "q24_seatbelts         0\n",
       "q25_living_sit        0\n",
       "q26_primary_care      0\n",
       "q27_last_appt         0\n",
       "q28_health_lit        0\n",
       "q29_annual_scrn       0\n",
       "q31_treat_changes     0\n",
       "q32_pain_scale        0\n",
       "q33_programs_avail    0\n",
       "age                   0\n",
       "dtype: int64"
      ]
     },
     "execution_count": 146,
     "metadata": {},
     "output_type": "execute_result"
    }
   ],
   "source": [
    "df.isnull().sum()"
   ]
  },
  {
   "cell_type": "markdown",
   "metadata": {},
   "source": [
    "#### Create Preliminary Train/Test Data, Apply Scaling to Numerical Features, & Apply Class Balancing"
   ]
  },
  {
   "cell_type": "code",
   "execution_count": 147,
   "metadata": {},
   "outputs": [],
   "source": [
    "X = df.copy(deep=True)\n",
    "Y = X.copy(deep=True)\n",
    "Y = Y['q29_annual_scrn']\n",
    "Y = Y.map({1:1, 2:0})\n",
    "X.drop('q29_annual_scrn', axis=1, inplace=True)\n",
    "\n",
    "train, test, train_labels, test_labels = train_test_split(X, Y, test_size=0.25, random_state=5)"
   ]
  },
  {
   "cell_type": "code",
   "execution_count": 148,
   "metadata": {},
   "outputs": [
    {
     "name": "stderr",
     "output_type": "stream",
     "text": [
      "/opt/anaconda3/lib/python3.8/site-packages/imblearn/utils/_validation.py:635: FutureWarning: Pass sampling_strategy=minority as keyword args. From version 0.9 passing these as positional arguments will result in an error\n",
      "  warnings.warn(\"Pass {} as keyword args. From version 0.9 \"\n",
      "<ipython-input-148-ec35f4a5346c>:5: SettingWithCopyWarning: \n",
      "A value is trying to be set on a copy of a slice from a DataFrame.\n",
      "Try using .loc[row_indexer,col_indexer] = value instead\n",
      "\n",
      "See the caveats in the documentation: https://pandas.pydata.org/pandas-docs/stable/user_guide/indexing.html#returning-a-view-versus-a-copy\n",
      "  train[numerical_features] = scaler.fit_transform(train[numerical_features])\n",
      "/opt/anaconda3/lib/python3.8/site-packages/pandas/core/indexing.py:966: SettingWithCopyWarning: \n",
      "A value is trying to be set on a copy of a slice from a DataFrame.\n",
      "Try using .loc[row_indexer,col_indexer] = value instead\n",
      "\n",
      "See the caveats in the documentation: https://pandas.pydata.org/pandas-docs/stable/user_guide/indexing.html#returning-a-view-versus-a-copy\n",
      "  self.obj[item] = s\n",
      "<ipython-input-148-ec35f4a5346c>:6: SettingWithCopyWarning: \n",
      "A value is trying to be set on a copy of a slice from a DataFrame.\n",
      "Try using .loc[row_indexer,col_indexer] = value instead\n",
      "\n",
      "See the caveats in the documentation: https://pandas.pydata.org/pandas-docs/stable/user_guide/indexing.html#returning-a-view-versus-a-copy\n",
      "  test[numerical_features] = scaler.transform(test[numerical_features])\n",
      "/opt/anaconda3/lib/python3.8/site-packages/pandas/core/indexing.py:966: SettingWithCopyWarning: \n",
      "A value is trying to be set on a copy of a slice from a DataFrame.\n",
      "Try using .loc[row_indexer,col_indexer] = value instead\n",
      "\n",
      "See the caveats in the documentation: https://pandas.pydata.org/pandas-docs/stable/user_guide/indexing.html#returning-a-view-versus-a-copy\n",
      "  self.obj[item] = s\n"
     ]
    }
   ],
   "source": [
    "scaler = MinMaxScaler()\n",
    "\n",
    "minority = SMOTE('minority',random_state=4)\n",
    "\n",
    "train[numerical_features] = scaler.fit_transform(train[numerical_features])\n",
    "test[numerical_features] = scaler.transform(test[numerical_features])\n",
    "\n",
    "train_new, train_labels_new = minority.fit_resample(train, train_labels)"
   ]
  },
  {
   "cell_type": "code",
   "execution_count": 149,
   "metadata": {},
   "outputs": [],
   "source": [
    "importances = mutual_info_classif(train_new, train_labels_new)\n",
    "feature_importances = pd.DataFrame(importances, X.columns, columns=['importance'])"
   ]
  },
  {
   "cell_type": "code",
   "execution_count": 150,
   "metadata": {},
   "outputs": [
    {
     "data": {
      "text/html": [
       "<div>\n",
       "<style scoped>\n",
       "    .dataframe tbody tr th:only-of-type {\n",
       "        vertical-align: middle;\n",
       "    }\n",
       "\n",
       "    .dataframe tbody tr th {\n",
       "        vertical-align: top;\n",
       "    }\n",
       "\n",
       "    .dataframe thead th {\n",
       "        text-align: right;\n",
       "    }\n",
       "</style>\n",
       "<table border=\"1\" class=\"dataframe\">\n",
       "  <thead>\n",
       "    <tr style=\"text-align: right;\">\n",
       "      <th></th>\n",
       "      <th>importance</th>\n",
       "    </tr>\n",
       "  </thead>\n",
       "  <tbody>\n",
       "    <tr>\n",
       "      <th>age</th>\n",
       "      <td>0.337794</td>\n",
       "    </tr>\n",
       "    <tr>\n",
       "      <th>weight</th>\n",
       "      <td>0.320323</td>\n",
       "    </tr>\n",
       "    <tr>\n",
       "      <th>height</th>\n",
       "      <td>0.313264</td>\n",
       "    </tr>\n",
       "    <tr>\n",
       "      <th>q15_bh_total_score</th>\n",
       "      <td>0.140775</td>\n",
       "    </tr>\n",
       "    <tr>\n",
       "      <th>q12_exercise</th>\n",
       "      <td>0.129348</td>\n",
       "    </tr>\n",
       "    <tr>\n",
       "      <th>q13_stress</th>\n",
       "      <td>0.116785</td>\n",
       "    </tr>\n",
       "    <tr>\n",
       "      <th>q11_fruit_veg</th>\n",
       "      <td>0.115656</td>\n",
       "    </tr>\n",
       "    <tr>\n",
       "      <th>q14_anxious</th>\n",
       "      <td>0.113522</td>\n",
       "    </tr>\n",
       "    <tr>\n",
       "      <th>q4_rate_health</th>\n",
       "      <td>0.111717</td>\n",
       "    </tr>\n",
       "    <tr>\n",
       "      <th>q2_bcs_past_year</th>\n",
       "      <td>0.108925</td>\n",
       "    </tr>\n",
       "    <tr>\n",
       "      <th>q23_dme</th>\n",
       "      <td>0.101303</td>\n",
       "    </tr>\n",
       "    <tr>\n",
       "      <th>q21_meds_np_prov</th>\n",
       "      <td>0.089515</td>\n",
       "    </tr>\n",
       "    <tr>\n",
       "      <th>q10_food_insc</th>\n",
       "      <td>0.088450</td>\n",
       "    </tr>\n",
       "    <tr>\n",
       "      <th>q3_ccs_past_year</th>\n",
       "      <td>0.088057</td>\n",
       "    </tr>\n",
       "    <tr>\n",
       "      <th>q31_treat_changes</th>\n",
       "      <td>0.086385</td>\n",
       "    </tr>\n",
       "    <tr>\n",
       "      <th>gender</th>\n",
       "      <td>0.081765</td>\n",
       "    </tr>\n",
       "    <tr>\n",
       "      <th>vision_imp</th>\n",
       "      <td>0.079600</td>\n",
       "    </tr>\n",
       "    <tr>\n",
       "      <th>q18_substances</th>\n",
       "      <td>0.077997</td>\n",
       "    </tr>\n",
       "    <tr>\n",
       "      <th>q17_sleep</th>\n",
       "      <td>0.072925</td>\n",
       "    </tr>\n",
       "    <tr>\n",
       "      <th>q28_health_lit</th>\n",
       "      <td>0.072521</td>\n",
       "    </tr>\n",
       "    <tr>\n",
       "      <th>race</th>\n",
       "      <td>0.071650</td>\n",
       "    </tr>\n",
       "    <tr>\n",
       "      <th>q24_seatbelts</th>\n",
       "      <td>0.071469</td>\n",
       "    </tr>\n",
       "    <tr>\n",
       "      <th>q20_meds_np</th>\n",
       "      <td>0.071267</td>\n",
       "    </tr>\n",
       "    <tr>\n",
       "      <th>q27_last_appt</th>\n",
       "      <td>0.068255</td>\n",
       "    </tr>\n",
       "    <tr>\n",
       "      <th>q16_therapy</th>\n",
       "      <td>0.066878</td>\n",
       "    </tr>\n",
       "    <tr>\n",
       "      <th>q32_pain_scale</th>\n",
       "      <td>0.056579</td>\n",
       "    </tr>\n",
       "    <tr>\n",
       "      <th>q22_meds_diff</th>\n",
       "      <td>0.055057</td>\n",
       "    </tr>\n",
       "    <tr>\n",
       "      <th>hearing_imp</th>\n",
       "      <td>0.039211</td>\n",
       "    </tr>\n",
       "    <tr>\n",
       "      <th>q33_programs_avail</th>\n",
       "      <td>0.038203</td>\n",
       "    </tr>\n",
       "    <tr>\n",
       "      <th>q19_support</th>\n",
       "      <td>0.036587</td>\n",
       "    </tr>\n",
       "    <tr>\n",
       "      <th>hispanic_latio</th>\n",
       "      <td>0.034933</td>\n",
       "    </tr>\n",
       "    <tr>\n",
       "      <th>q26_primary_care</th>\n",
       "      <td>0.034360</td>\n",
       "    </tr>\n",
       "    <tr>\n",
       "      <th>language</th>\n",
       "      <td>0.025542</td>\n",
       "    </tr>\n",
       "    <tr>\n",
       "      <th>comp_form</th>\n",
       "      <td>0.019511</td>\n",
       "    </tr>\n",
       "    <tr>\n",
       "      <th>q8_beliefs</th>\n",
       "      <td>0.019030</td>\n",
       "    </tr>\n",
       "    <tr>\n",
       "      <th>q1_pregnant</th>\n",
       "      <td>0.005740</td>\n",
       "    </tr>\n",
       "    <tr>\n",
       "      <th>q25_living_sit</th>\n",
       "      <td>0.004440</td>\n",
       "    </tr>\n",
       "  </tbody>\n",
       "</table>\n",
       "</div>"
      ],
      "text/plain": [
       "                    importance\n",
       "age                   0.337794\n",
       "weight                0.320323\n",
       "height                0.313264\n",
       "q15_bh_total_score    0.140775\n",
       "q12_exercise          0.129348\n",
       "q13_stress            0.116785\n",
       "q11_fruit_veg         0.115656\n",
       "q14_anxious           0.113522\n",
       "q4_rate_health        0.111717\n",
       "q2_bcs_past_year      0.108925\n",
       "q23_dme               0.101303\n",
       "q21_meds_np_prov      0.089515\n",
       "q10_food_insc         0.088450\n",
       "q3_ccs_past_year      0.088057\n",
       "q31_treat_changes     0.086385\n",
       "gender                0.081765\n",
       "vision_imp            0.079600\n",
       "q18_substances        0.077997\n",
       "q17_sleep             0.072925\n",
       "q28_health_lit        0.072521\n",
       "race                  0.071650\n",
       "q24_seatbelts         0.071469\n",
       "q20_meds_np           0.071267\n",
       "q27_last_appt         0.068255\n",
       "q16_therapy           0.066878\n",
       "q32_pain_scale        0.056579\n",
       "q22_meds_diff         0.055057\n",
       "hearing_imp           0.039211\n",
       "q33_programs_avail    0.038203\n",
       "q19_support           0.036587\n",
       "hispanic_latio        0.034933\n",
       "q26_primary_care      0.034360\n",
       "language              0.025542\n",
       "comp_form             0.019511\n",
       "q8_beliefs            0.019030\n",
       "q1_pregnant           0.005740\n",
       "q25_living_sit        0.004440"
      ]
     },
     "execution_count": 150,
     "metadata": {},
     "output_type": "execute_result"
    }
   ],
   "source": [
    "feature_importances.sort_values(by='importance', ascending=False)"
   ]
  },
  {
   "cell_type": "code",
   "execution_count": 151,
   "metadata": {},
   "outputs": [
    {
     "data": {
      "image/png": "[encoded data removed]",
      "text/plain": [
       "<Figure size 1440x720 with 1 Axes>"
      ]
     },
     "metadata": {},
     "output_type": "display_data"
    }
   ],
   "source": [
    "top_importances = feature_importances[feature_importances['importance'] > 0.05].sort_values(by='importance', ascending=False)\n",
    "top_importances.plot(kind='bar', color='red')\n",
    "plt.title('Feature Importances')\n",
    "plt.xlabel('Feature')\n",
    "plt.ylabel('Importance')\n",
    "plt.xticks(rotation=45)\n",
    "fig = plt.gcf()\n",
    "fig.set_size_inches(20,10)\n",
    "plt.show()"
   ]
  },
  {
   "cell_type": "code",
   "execution_count": 152,
   "metadata": {},
   "outputs": [
    {
     "data": {
      "text/plain": [
       "Index(['comp_form', 'q11_fruit_veg', 'q15_bh_total_score', 'q27_last_appt'], dtype='object')"
      ]
     },
     "execution_count": 152,
     "metadata": {},
     "output_type": "execute_result"
    }
   ],
   "source": [
    "lr = LogisticRegression(C=0.001, penalty='l1', solver='liblinear', random_state=7)\n",
    "model = SelectFromModel(lr)\n",
    "model.fit(train_new, train_labels_new)\n",
    "selected_features = X.columns[(model.get_support())]\n",
    "selected_features"
   ]
  },
  {
   "cell_type": "code",
   "execution_count": 153,
   "metadata": {},
   "outputs": [],
   "source": [
    "rf = RandomForestClassifier(random_state=5)\n",
    "rf.fit(train_new, train_labels_new)\n",
    "rf_importances = rf.feature_importances_"
   ]
  },
  {
   "cell_type": "code",
   "execution_count": 154,
   "metadata": {},
   "outputs": [
    {
     "data": {
      "image/png": "[encoded data removed]",
      "text/plain": [
       "<Figure size 1440x720 with 1 Axes>"
      ]
     },
     "metadata": {},
     "output_type": "display_data"
    }
   ],
   "source": [
    "df_features = list(X.columns)\n",
    "rf_df = pd.DataFrame({'features': df_features, 'importances': rf_importances})\n",
    "plt.bar(rf_df['features'], rf_df['importances'], color = 'blue')\n",
    "plt.title('Feature Importances')\n",
    "plt.xticks(rotation = 90)\n",
    "fig = plt.gcf()\n",
    "fig.set_size_inches(20,10)\n",
    "plt.show()"
   ]
  },
  {
   "cell_type": "code",
   "execution_count": 155,
   "metadata": {},
   "outputs": [
    {
     "data": {
      "text/plain": [
       "['height',\n",
       " 'weight',\n",
       " 'q2_bcs_past_year',\n",
       " 'q3_ccs_past_year',\n",
       " 'q13_stress',\n",
       " 'q15_bh_total_score',\n",
       " 'q27_last_appt',\n",
       " 'age']"
      ]
     },
     "execution_count": 155,
     "metadata": {},
     "output_type": "execute_result"
    }
   ],
   "source": [
    "rf_df_top_features = rf_df[rf_df['importances'] > 0.04]\n",
    "rf_df_top_features_list = list(rf_df_top_features['features'])\n",
    "rf_df_top_features_list"
   ]
  },
  {
   "cell_type": "code",
   "execution_count": 156,
   "metadata": {},
   "outputs": [
    {
     "data": {
      "text/plain": [
       "['age',\n",
       " 'weight',\n",
       " 'height',\n",
       " 'q15_bh_total_score',\n",
       " 'q12_exercise',\n",
       " 'q13_stress',\n",
       " 'q11_fruit_veg',\n",
       " 'q14_anxious',\n",
       " 'q4_rate_health',\n",
       " 'q2_bcs_past_year',\n",
       " 'q23_dme']"
      ]
     },
     "execution_count": 156,
     "metadata": {},
     "output_type": "execute_result"
    }
   ],
   "source": [
    "top_10_importances = feature_importances[feature_importances['importance'] >= 0.10].sort_values(by='importance', ascending=False)\n",
    "top_10_features = list(top_10_importances.index.values)\n",
    "top_10_features"
   ]
  },
  {
   "cell_type": "code",
   "execution_count": 157,
   "metadata": {},
   "outputs": [
    {
     "data": {
      "text/plain": [
       "{'age',\n",
       " 'comp_form',\n",
       " 'height',\n",
       " 'q11_fruit_veg',\n",
       " 'q12_exercise',\n",
       " 'q13_stress',\n",
       " 'q14_anxious',\n",
       " 'q15_bh_total_score',\n",
       " 'q23_dme',\n",
       " 'q27_last_appt',\n",
       " 'q2_bcs_past_year',\n",
       " 'q3_ccs_past_year',\n",
       " 'q4_rate_health',\n",
       " 'weight'}"
      ]
     },
     "execution_count": 157,
     "metadata": {},
     "output_type": "execute_result"
    }
   ],
   "source": [
    "feature_set = set(top_10_features + rf_df_top_features_list + list(selected_features))\n",
    "feature_set"
   ]
  },
  {
   "cell_type": "code",
   "execution_count": 158,
   "metadata": {},
   "outputs": [
    {
     "data": {
      "text/plain": [
       "['q11_fruit_veg',\n",
       " 'age',\n",
       " 'q14_anxious',\n",
       " 'q15_bh_total_score',\n",
       " 'q27_last_appt',\n",
       " 'q2_bcs_past_year',\n",
       " 'q13_stress',\n",
       " 'weight',\n",
       " 'q23_dme',\n",
       " 'q3_ccs_past_year',\n",
       " 'comp_form',\n",
       " 'q4_rate_health',\n",
       " 'q12_exercise',\n",
       " 'height']"
      ]
     },
     "execution_count": 158,
     "metadata": {},
     "output_type": "execute_result"
    }
   ],
   "source": [
    "top_features = list(feature_set)\n",
    "top_features"
   ]
  },
  {
   "cell_type": "code",
   "execution_count": 159,
   "metadata": {},
   "outputs": [
    {
     "data": {
      "text/plain": [
       "(23079, 15)"
      ]
     },
     "execution_count": 159,
     "metadata": {},
     "output_type": "execute_result"
    }
   ],
   "source": [
    "top_features.append('q29_annual_scrn')\n",
    "df_final = df[top_features]\n",
    "df_final.shape"
   ]
  },
  {
   "cell_type": "code",
   "execution_count": null,
   "metadata": {},
   "outputs": [],
   "source": []
  },
  {
   "cell_type": "markdown",
   "metadata": {},
   "source": [
    "## Modeling: One-hot Encode Non-Ordinal & Non-Binary Variables, Create New Train/Test Data, Scale Data, Apply Class Balancing, Fit Models Using Hyperparameter Tuning, and Evaluate Models"
   ]
  },
  {
   "cell_type": "markdown",
   "metadata": {},
   "source": [
    "### One-Hot Encode Categorical Variables That are Not Ordinal or Binary"
   ]
  },
  {
   "cell_type": "code",
   "execution_count": 160,
   "metadata": {},
   "outputs": [
    {
     "data": {
      "text/plain": [
       "['member_id',\n",
       " 'comp_form',\n",
       " 'race',\n",
       " 'language',\n",
       " 'q11_fruit_veg',\n",
       " 'q17_sleep',\n",
       " 'q18_substances',\n",
       " 'q21_meds_np_prov',\n",
       " 'q23_dme']"
      ]
     },
     "execution_count": 160,
     "metadata": {},
     "output_type": "execute_result"
    }
   ],
   "source": [
    "one_hot_cats"
   ]
  },
  {
   "cell_type": "code",
   "execution_count": 161,
   "metadata": {},
   "outputs": [
    {
     "data": {
      "text/plain": [
       "['comp_form', 'q11_fruit_veg', 'q23_dme']"
      ]
     },
     "execution_count": 161,
     "metadata": {},
     "output_type": "execute_result"
    }
   ],
   "source": [
    "one_hot_cats_filtered = [cat for cat in one_hot_cats if cat in top_features]\n",
    "one_hot_cats_filtered"
   ]
  },
  {
   "cell_type": "code",
   "execution_count": 162,
   "metadata": {},
   "outputs": [
    {
     "data": {
      "text/plain": [
       "25"
      ]
     },
     "execution_count": 162,
     "metadata": {},
     "output_type": "execute_result"
    }
   ],
   "source": [
    "df_final = pd.get_dummies(df_final, columns=one_hot_cats_filtered)\n",
    "len(df_final.columns)"
   ]
  },
  {
   "cell_type": "code",
   "execution_count": 163,
   "metadata": {},
   "outputs": [
    {
     "data": {
      "text/html": [
       "<div>\n",
       "<style scoped>\n",
       "    .dataframe tbody tr th:only-of-type {\n",
       "        vertical-align: middle;\n",
       "    }\n",
       "\n",
       "    .dataframe tbody tr th {\n",
       "        vertical-align: top;\n",
       "    }\n",
       "\n",
       "    .dataframe thead th {\n",
       "        text-align: right;\n",
       "    }\n",
       "</style>\n",
       "<table border=\"1\" class=\"dataframe\">\n",
       "  <thead>\n",
       "    <tr style=\"text-align: right;\">\n",
       "      <th></th>\n",
       "      <th>age</th>\n",
       "      <th>q14_anxious</th>\n",
       "      <th>q15_bh_total_score</th>\n",
       "      <th>q27_last_appt</th>\n",
       "      <th>q2_bcs_past_year</th>\n",
       "      <th>q13_stress</th>\n",
       "      <th>weight</th>\n",
       "      <th>q3_ccs_past_year</th>\n",
       "      <th>q4_rate_health</th>\n",
       "      <th>q12_exercise</th>\n",
       "      <th>...</th>\n",
       "      <th>comp_form_4.0</th>\n",
       "      <th>q11_fruit_veg_1.0</th>\n",
       "      <th>q11_fruit_veg_2.0</th>\n",
       "      <th>q11_fruit_veg_3.0</th>\n",
       "      <th>q11_fruit_veg_4.0</th>\n",
       "      <th>q11_fruit_veg_5.0</th>\n",
       "      <th>q23_dme_0.0</th>\n",
       "      <th>q23_dme_1.0</th>\n",
       "      <th>q23_dme_2.0</th>\n",
       "      <th>q23_dme_3.0</th>\n",
       "    </tr>\n",
       "  </thead>\n",
       "  <tbody>\n",
       "    <tr>\n",
       "      <th>0</th>\n",
       "      <td>67</td>\n",
       "      <td>1.0</td>\n",
       "      <td>1.0</td>\n",
       "      <td>1.0</td>\n",
       "      <td>1.0</td>\n",
       "      <td>3.0</td>\n",
       "      <td>335</td>\n",
       "      <td>2.0</td>\n",
       "      <td>1.0</td>\n",
       "      <td>1.0</td>\n",
       "      <td>...</td>\n",
       "      <td>0</td>\n",
       "      <td>0</td>\n",
       "      <td>1</td>\n",
       "      <td>0</td>\n",
       "      <td>0</td>\n",
       "      <td>0</td>\n",
       "      <td>0</td>\n",
       "      <td>0</td>\n",
       "      <td>1</td>\n",
       "      <td>0</td>\n",
       "    </tr>\n",
       "    <tr>\n",
       "      <th>1</th>\n",
       "      <td>74</td>\n",
       "      <td>1.0</td>\n",
       "      <td>0.0</td>\n",
       "      <td>2.0</td>\n",
       "      <td>1.0</td>\n",
       "      <td>1.0</td>\n",
       "      <td>180</td>\n",
       "      <td>1.0</td>\n",
       "      <td>2.0</td>\n",
       "      <td>1.0</td>\n",
       "      <td>...</td>\n",
       "      <td>1</td>\n",
       "      <td>0</td>\n",
       "      <td>0</td>\n",
       "      <td>0</td>\n",
       "      <td>0</td>\n",
       "      <td>1</td>\n",
       "      <td>0</td>\n",
       "      <td>1</td>\n",
       "      <td>0</td>\n",
       "      <td>0</td>\n",
       "    </tr>\n",
       "    <tr>\n",
       "      <th>2</th>\n",
       "      <td>88</td>\n",
       "      <td>1.0</td>\n",
       "      <td>1.0</td>\n",
       "      <td>1.0</td>\n",
       "      <td>2.0</td>\n",
       "      <td>2.0</td>\n",
       "      <td>175</td>\n",
       "      <td>1.0</td>\n",
       "      <td>2.0</td>\n",
       "      <td>2.0</td>\n",
       "      <td>...</td>\n",
       "      <td>1</td>\n",
       "      <td>0</td>\n",
       "      <td>0</td>\n",
       "      <td>0</td>\n",
       "      <td>0</td>\n",
       "      <td>1</td>\n",
       "      <td>1</td>\n",
       "      <td>0</td>\n",
       "      <td>0</td>\n",
       "      <td>0</td>\n",
       "    </tr>\n",
       "    <tr>\n",
       "      <th>3</th>\n",
       "      <td>66</td>\n",
       "      <td>2.0</td>\n",
       "      <td>3.0</td>\n",
       "      <td>1.0</td>\n",
       "      <td>2.0</td>\n",
       "      <td>2.0</td>\n",
       "      <td>166</td>\n",
       "      <td>1.0</td>\n",
       "      <td>1.0</td>\n",
       "      <td>0.0</td>\n",
       "      <td>...</td>\n",
       "      <td>0</td>\n",
       "      <td>0</td>\n",
       "      <td>0</td>\n",
       "      <td>0</td>\n",
       "      <td>0</td>\n",
       "      <td>1</td>\n",
       "      <td>0</td>\n",
       "      <td>1</td>\n",
       "      <td>0</td>\n",
       "      <td>0</td>\n",
       "    </tr>\n",
       "    <tr>\n",
       "      <th>5</th>\n",
       "      <td>84</td>\n",
       "      <td>1.0</td>\n",
       "      <td>0.0</td>\n",
       "      <td>1.0</td>\n",
       "      <td>2.0</td>\n",
       "      <td>1.0</td>\n",
       "      <td>265</td>\n",
       "      <td>2.0</td>\n",
       "      <td>2.0</td>\n",
       "      <td>2.0</td>\n",
       "      <td>...</td>\n",
       "      <td>0</td>\n",
       "      <td>0</td>\n",
       "      <td>0</td>\n",
       "      <td>0</td>\n",
       "      <td>0</td>\n",
       "      <td>1</td>\n",
       "      <td>1</td>\n",
       "      <td>0</td>\n",
       "      <td>0</td>\n",
       "      <td>0</td>\n",
       "    </tr>\n",
       "  </tbody>\n",
       "</table>\n",
       "<p>5 rows × 25 columns</p>\n",
       "</div>"
      ],
      "text/plain": [
       "   age  q14_anxious  q15_bh_total_score  q27_last_appt  q2_bcs_past_year  \\\n",
       "0   67          1.0                 1.0            1.0               1.0   \n",
       "1   74          1.0                 0.0            2.0               1.0   \n",
       "2   88          1.0                 1.0            1.0               2.0   \n",
       "3   66          2.0                 3.0            1.0               2.0   \n",
       "5   84          1.0                 0.0            1.0               2.0   \n",
       "\n",
       "   q13_stress  weight  q3_ccs_past_year  q4_rate_health  q12_exercise  ...  \\\n",
       "0         3.0     335               2.0             1.0           1.0  ...   \n",
       "1         1.0     180               1.0             2.0           1.0  ...   \n",
       "2         2.0     175               1.0             2.0           2.0  ...   \n",
       "3         2.0     166               1.0             1.0           0.0  ...   \n",
       "5         1.0     265               2.0             2.0           2.0  ...   \n",
       "\n",
       "   comp_form_4.0  q11_fruit_veg_1.0  q11_fruit_veg_2.0  q11_fruit_veg_3.0  \\\n",
       "0              0                  0                  1                  0   \n",
       "1              1                  0                  0                  0   \n",
       "2              1                  0                  0                  0   \n",
       "3              0                  0                  0                  0   \n",
       "5              0                  0                  0                  0   \n",
       "\n",
       "   q11_fruit_veg_4.0  q11_fruit_veg_5.0  q23_dme_0.0  q23_dme_1.0  \\\n",
       "0                  0                  0            0            0   \n",
       "1                  0                  1            0            1   \n",
       "2                  0                  1            1            0   \n",
       "3                  0                  1            0            1   \n",
       "5                  0                  1            1            0   \n",
       "\n",
       "   q23_dme_2.0  q23_dme_3.0  \n",
       "0            1            0  \n",
       "1            0            0  \n",
       "2            0            0  \n",
       "3            0            0  \n",
       "5            0            0  \n",
       "\n",
       "[5 rows x 25 columns]"
      ]
     },
     "execution_count": 163,
     "metadata": {},
     "output_type": "execute_result"
    }
   ],
   "source": [
    "df_final.head()"
   ]
  },
  {
   "cell_type": "code",
   "execution_count": 164,
   "metadata": {},
   "outputs": [],
   "source": [
    "X = df_final.copy(deep=True)\n",
    "Y = df_final.copy(deep=True)\n",
    "Y = Y['q29_annual_scrn']\n",
    "Y = Y.map({1:1, 2:0})\n",
    "X.drop('q29_annual_scrn', axis=1, inplace=True)\n",
    "\n",
    "train, test, train_labels, test_labels = train_test_split(X, Y, test_size=0.25, random_state=5)\n"
   ]
  },
  {
   "cell_type": "code",
   "execution_count": 165,
   "metadata": {},
   "outputs": [
    {
     "name": "stderr",
     "output_type": "stream",
     "text": [
      "/opt/anaconda3/lib/python3.8/site-packages/imblearn/utils/_validation.py:635: FutureWarning: Pass sampling_strategy=majority as keyword args. From version 0.9 passing these as positional arguments will result in an error\n",
      "  warnings.warn(\"Pass {} as keyword args. From version 0.9 \"\n",
      "/opt/anaconda3/lib/python3.8/site-packages/imblearn/utils/_validation.py:635: FutureWarning: Pass sampling_strategy=minority as keyword args. From version 0.9 passing these as positional arguments will result in an error\n",
      "  warnings.warn(\"Pass {} as keyword args. From version 0.9 \"\n"
     ]
    }
   ],
   "source": [
    "# Create Training and Testing Data Based on Optimal Scaling and Sampling Method Combination\n",
    "\n",
    "smote = SMOTE(random_state=4)\n",
    "majority = RandomUnderSampler('majority',random_state=4)\n",
    "minority = SMOTE('minority',random_state=4)\n",
    "\n",
    "min_max = MinMaxScaler()\n",
    "standard = StandardScaler()\n",
    "\n",
    "sampling_methods = [smote, majority, minority]\n",
    "scaling_methods = [min_max, standard]\n",
    "\n",
    "training_testing_dict = defaultdict(tuple)\n",
    "\n",
    "train_new = train.copy(deep=True)\n",
    "test_new = test.copy(deep=True)\n",
    "\n",
    "i = 0\n",
    "for scaling_method in scaling_methods:\n",
    "    for sampling_method in sampling_methods:\n",
    "        train_new[numerical_features] = scaling_method.fit_transform(train[numerical_features])\n",
    "        test_new[numerical_features] = scaling_method.transform(test[numerical_features])\n",
    "        train_new, train_labels_new = sampling_method.fit_resample(train_new, \n",
    "                                                                   train_labels)\n",
    "        training_testing_dict[i] = train_new, test_new, train_labels_new, test_labels\n",
    "        \n",
    "        train_new = train.copy(deep=True)\n",
    "        test_new = test.copy(deep=True)\n",
    "        train_labels_new = train_labels.copy(deep=True)\n",
    "        \n",
    "        i+= 1"
   ]
  },
  {
   "cell_type": "code",
   "execution_count": 166,
   "metadata": {},
   "outputs": [],
   "source": [
    "# Function to Find Optimal Training Data\n",
    "\n",
    "def optimize_data(train_test_data, model):\n",
    "    \n",
    "    i = 0\n",
    "    index = None\n",
    "    best_loss = 1000\n",
    "    model_new = model\n",
    "    \n",
    "    for train, test, train_labels, test_labels in train_test_data.values():\n",
    "        model_new.fit(train, train_labels)\n",
    "        probs = model_new.predict_proba(test)\n",
    "        loss = log_loss(test_labels, probs)\n",
    "\n",
    "        if loss < best_loss:\n",
    "            best_loss = loss\n",
    "            index = i\n",
    "        i += 1\n",
    "        model_new = model\n",
    "            \n",
    "    return train_test_data[index]"
   ]
  },
  {
   "cell_type": "code",
   "execution_count": 167,
   "metadata": {},
   "outputs": [
    {
     "name": "stderr",
     "output_type": "stream",
     "text": [
      "/opt/anaconda3/lib/python3.8/site-packages/xgboost/sklearn.py:888: UserWarning: The use of label encoder in XGBClassifier is deprecated and will be removed in a future release. To remove this warning, do the following: 1) Pass option use_label_encoder=False when constructing XGBClassifier object; and 2) Encode your labels (y) as integers starting with 0, i.e. 0, 1, 2, ..., [num_class - 1].\n",
      "  warnings.warn(label_encoder_deprecation_msg, UserWarning)\n"
     ]
    },
    {
     "name": "stdout",
     "output_type": "stream",
     "text": [
      "[10:39:45] WARNING: /Users/travis/build/dmlc/xgboost/src/learner.cc:1061: Starting in XGBoost 1.3.0, the default evaluation metric used with the objective 'binary:logistic' was changed from 'error' to 'logloss'. Explicitly set eval_metric if you'd like to restore the old behavior.\n"
     ]
    },
    {
     "name": "stderr",
     "output_type": "stream",
     "text": [
      "/opt/anaconda3/lib/python3.8/site-packages/xgboost/sklearn.py:888: UserWarning: The use of label encoder in XGBClassifier is deprecated and will be removed in a future release. To remove this warning, do the following: 1) Pass option use_label_encoder=False when constructing XGBClassifier object; and 2) Encode your labels (y) as integers starting with 0, i.e. 0, 1, 2, ..., [num_class - 1].\n",
      "  warnings.warn(label_encoder_deprecation_msg, UserWarning)\n"
     ]
    },
    {
     "name": "stdout",
     "output_type": "stream",
     "text": [
      "[10:39:47] WARNING: /Users/travis/build/dmlc/xgboost/src/learner.cc:1061: Starting in XGBoost 1.3.0, the default evaluation metric used with the objective 'binary:logistic' was changed from 'error' to 'logloss'. Explicitly set eval_metric if you'd like to restore the old behavior.\n"
     ]
    },
    {
     "name": "stderr",
     "output_type": "stream",
     "text": [
      "/opt/anaconda3/lib/python3.8/site-packages/xgboost/sklearn.py:888: UserWarning: The use of label encoder in XGBClassifier is deprecated and will be removed in a future release. To remove this warning, do the following: 1) Pass option use_label_encoder=False when constructing XGBClassifier object; and 2) Encode your labels (y) as integers starting with 0, i.e. 0, 1, 2, ..., [num_class - 1].\n",
      "  warnings.warn(label_encoder_deprecation_msg, UserWarning)\n"
     ]
    },
    {
     "name": "stdout",
     "output_type": "stream",
     "text": [
      "[10:39:48] WARNING: /Users/travis/build/dmlc/xgboost/src/learner.cc:1061: Starting in XGBoost 1.3.0, the default evaluation metric used with the objective 'binary:logistic' was changed from 'error' to 'logloss'. Explicitly set eval_metric if you'd like to restore the old behavior.\n"
     ]
    },
    {
     "name": "stderr",
     "output_type": "stream",
     "text": [
      "/opt/anaconda3/lib/python3.8/site-packages/xgboost/sklearn.py:888: UserWarning: The use of label encoder in XGBClassifier is deprecated and will be removed in a future release. To remove this warning, do the following: 1) Pass option use_label_encoder=False when constructing XGBClassifier object; and 2) Encode your labels (y) as integers starting with 0, i.e. 0, 1, 2, ..., [num_class - 1].\n",
      "  warnings.warn(label_encoder_deprecation_msg, UserWarning)\n"
     ]
    },
    {
     "name": "stdout",
     "output_type": "stream",
     "text": [
      "[10:39:52] WARNING: /Users/travis/build/dmlc/xgboost/src/learner.cc:1061: Starting in XGBoost 1.3.0, the default evaluation metric used with the objective 'binary:logistic' was changed from 'error' to 'logloss'. Explicitly set eval_metric if you'd like to restore the old behavior.\n"
     ]
    },
    {
     "name": "stderr",
     "output_type": "stream",
     "text": [
      "/opt/anaconda3/lib/python3.8/site-packages/xgboost/sklearn.py:888: UserWarning: The use of label encoder in XGBClassifier is deprecated and will be removed in a future release. To remove this warning, do the following: 1) Pass option use_label_encoder=False when constructing XGBClassifier object; and 2) Encode your labels (y) as integers starting with 0, i.e. 0, 1, 2, ..., [num_class - 1].\n",
      "  warnings.warn(label_encoder_deprecation_msg, UserWarning)\n"
     ]
    },
    {
     "name": "stdout",
     "output_type": "stream",
     "text": [
      "[10:39:54] WARNING: /Users/travis/build/dmlc/xgboost/src/learner.cc:1061: Starting in XGBoost 1.3.0, the default evaluation metric used with the objective 'binary:logistic' was changed from 'error' to 'logloss'. Explicitly set eval_metric if you'd like to restore the old behavior.\n"
     ]
    },
    {
     "name": "stderr",
     "output_type": "stream",
     "text": [
      "/opt/anaconda3/lib/python3.8/site-packages/xgboost/sklearn.py:888: UserWarning: The use of label encoder in XGBClassifier is deprecated and will be removed in a future release. To remove this warning, do the following: 1) Pass option use_label_encoder=False when constructing XGBClassifier object; and 2) Encode your labels (y) as integers starting with 0, i.e. 0, 1, 2, ..., [num_class - 1].\n",
      "  warnings.warn(label_encoder_deprecation_msg, UserWarning)\n"
     ]
    },
    {
     "name": "stdout",
     "output_type": "stream",
     "text": [
      "[10:39:55] WARNING: /Users/travis/build/dmlc/xgboost/src/learner.cc:1061: Starting in XGBoost 1.3.0, the default evaluation metric used with the objective 'binary:logistic' was changed from 'error' to 'logloss'. Explicitly set eval_metric if you'd like to restore the old behavior.\n"
     ]
    }
   ],
   "source": [
    "# Using Arbitrary XGB Classifier Model to Find Optimal Class Balanced Training Data\n",
    "\n",
    "arbitrary_model = XGBClassifier(random_state=5)\n",
    "\n",
    "train, test, train_labels, test_labels = optimize_data(training_testing_dict, \n",
    "                                                       arbitrary_model)"
   ]
  },
  {
   "cell_type": "code",
   "execution_count": 168,
   "metadata": {},
   "outputs": [],
   "source": [
    "# scaler = MinMaxScaler()\n",
    "\n",
    "# minority = SMOTE('minority',random_state=4)\n",
    "\n",
    "# train[numerical_features] = scaler.fit_transform(train[numerical_features])\n",
    "# test[numerical_features] = scaler.transform(test[numerical_features])\n",
    "\n",
    "# train_new, train_labels_new = minority.fit_resample(train, train_labels)"
   ]
  },
  {
   "cell_type": "code",
   "execution_count": 169,
   "metadata": {},
   "outputs": [],
   "source": [
    "# model for optimizing hyperparameters\n",
    "\n",
    "def optimize_params(train, train_labels, rs):\n",
    "    \n",
    "    rs.fit(train, train_labels)\n",
    "    model = rs.best_estimator_\n",
    "    \n",
    "    return model"
   ]
  },
  {
   "cell_type": "code",
   "execution_count": 170,
   "metadata": {},
   "outputs": [
    {
     "data": {
      "text/plain": [
       "DummyClassifier(strategy='most_frequent')"
      ]
     },
     "execution_count": 170,
     "metadata": {},
     "output_type": "execute_result"
    }
   ],
   "source": [
    "# Baseline Model\n",
    "\n",
    "dummy = DummyClassifier(strategy='most_frequent')\n",
    "dummy.fit(train, train_labels)"
   ]
  },
  {
   "cell_type": "code",
   "execution_count": 171,
   "metadata": {},
   "outputs": [
    {
     "name": "stdout",
     "output_type": "stream",
     "text": [
      "Fitting 10 folds for each of 10 candidates, totalling 100 fits\n"
     ]
    },
    {
     "name": "stderr",
     "output_type": "stream",
     "text": [
      "[Parallel(n_jobs=-1)]: Using backend LokyBackend with 4 concurrent workers.\n",
      "[Parallel(n_jobs=-1)]: Done  24 tasks      | elapsed:  2.0min\n",
      "[Parallel(n_jobs=-1)]: Done 100 out of 100 | elapsed:  7.7min finished\n"
     ]
    }
   ],
   "source": [
    "# 1. Random Forest Model\n",
    "\n",
    "param_grid = {\n",
    "    'n_estimators': np.arange(100,350,50).astype(int),\n",
    "    'max_features': ['sqrt'] + list(np.arange(0.3,1,0.1)),\n",
    "    'min_samples_leaf': [5,10,15],\n",
    "    'min_samples_split': [5,10,15],\n",
    "    'bootstrap': [True,False],\n",
    "    'criterion': ['gini', 'entropy']\n",
    "}\n",
    "\n",
    "rf_estimator = RandomForestClassifier(random_state=4)\n",
    "\n",
    "cv = RepeatedStratifiedKFold(n_splits=5, n_repeats=2, random_state=4)\n",
    "\n",
    "rf = RandomizedSearchCV(rf_estimator, param_grid, n_jobs=-1, cv=cv, verbose = 3, \n",
    "                        n_iter=10, scoring='neg_log_loss', random_state=4)\n",
    "\n",
    "best_rf = optimize_params(train, train_labels, rf)\n"
   ]
  },
  {
   "cell_type": "code",
   "execution_count": 172,
   "metadata": {},
   "outputs": [
    {
     "name": "stderr",
     "output_type": "stream",
     "text": [
      "/opt/anaconda3/lib/python3.8/site-packages/sklearn/svm/_base.py:976: ConvergenceWarning: Liblinear failed to converge, increase the number of iterations.\n",
      "  warnings.warn(\"Liblinear failed to converge, increase \"\n"
     ]
    }
   ],
   "source": [
    "# 2. Logistic Regression Model\n",
    "\n",
    "# Create Instance of Model\n",
    "logreg = LogisticRegression(random_state = 4)\n",
    "\n",
    "# define search space\n",
    "space = dict()\n",
    "space['solver'] = ['newton-cg', 'lbfgs', 'liblinear']\n",
    "space['penalty'] = ['l1', 'l2', 'elasticnet']\n",
    "space['C'] = [0.001, 0.01, 0.1, 1, 10]\n",
    "cv = RepeatedStratifiedKFold(n_splits=5, n_repeats=2, random_state=4)\n",
    "\n",
    "rs_logreg = RandomizedSearchCV(logreg, space, n_iter=10, scoring='neg_log_loss', \n",
    "                            n_jobs=-1, cv=cv, random_state=4)\n",
    "\n",
    "best_log = optimize_params(train, train_labels, rs_logreg)"
   ]
  },
  {
   "cell_type": "code",
   "execution_count": 173,
   "metadata": {},
   "outputs": [
    {
     "name": "stderr",
     "output_type": "stream",
     "text": [
      "/opt/anaconda3/lib/python3.8/site-packages/xgboost/sklearn.py:888: UserWarning: The use of label encoder in XGBClassifier is deprecated and will be removed in a future release. To remove this warning, do the following: 1) Pass option use_label_encoder=False when constructing XGBClassifier object; and 2) Encode your labels (y) as integers starting with 0, i.e. 0, 1, 2, ..., [num_class - 1].\n",
      "  warnings.warn(label_encoder_deprecation_msg, UserWarning)\n"
     ]
    },
    {
     "name": "stdout",
     "output_type": "stream",
     "text": [
      "[10:54:55] WARNING: /Users/travis/build/dmlc/xgboost/src/learner.cc:1061: Starting in XGBoost 1.3.0, the default evaluation metric used with the objective 'binary:logistic' was changed from 'error' to 'logloss'. Explicitly set eval_metric if you'd like to restore the old behavior.\n"
     ]
    }
   ],
   "source": [
    "# 3. Extreme Gradient Boosted Machine Model\n",
    "\n",
    "xgb = XGBClassifier(random_state=4)\n",
    "\n",
    "param_grid2 = {\n",
    "    'n_estimators': np.arange(20,200,50).astype(int),\n",
    "    'learning_rate': [0.001, 0.01, 0.1],\n",
    "    'colsample_bytree' : [0.3, 0.5, 0.7],\n",
    "    'lambda': [0.001, 0.01, 0.1],\n",
    "    'subsample': [0.5, 0.75, 1.0],\n",
    "}\n",
    "\n",
    "cv = RepeatedStratifiedKFold(n_splits=5, n_repeats=2, random_state=4)\n",
    "\n",
    "rs_xgb = RandomizedSearchCV(xgb, param_grid2, cv=cv, n_iter=10, random_state=5, \n",
    "                            scoring='neg_log_loss', n_jobs=-1)\n",
    "\n",
    "best_xgb = optimize_params(train, train_labels, rs_xgb)"
   ]
  },
  {
   "cell_type": "code",
   "execution_count": 174,
   "metadata": {},
   "outputs": [
    {
     "name": "stdout",
     "output_type": "stream",
     "text": [
      "Fitting 10 folds for each of 10 candidates, totalling 100 fits\n"
     ]
    },
    {
     "name": "stderr",
     "output_type": "stream",
     "text": [
      "[Parallel(n_jobs=-1)]: Using backend LokyBackend with 4 concurrent workers.\n",
      "[Parallel(n_jobs=-1)]: Done  24 tasks      | elapsed:   12.9s\n",
      "[Parallel(n_jobs=-1)]: Done 100 out of 100 | elapsed:   49.9s finished\n"
     ]
    },
    {
     "name": "stdout",
     "output_type": "stream",
     "text": [
      "[LightGBM] [Warning] lambda_l2 is set=0.001, reg_lambda=0.0 will be ignored. Current value: lambda_l2=0.001\n"
     ]
    }
   ],
   "source": [
    "# 4. Light Gradient Boosted Machine Model\n",
    "\n",
    "lgbm = LGBMClassifier(random_state=4)\n",
    "\n",
    "param_grid3 = {'n_estimators': np.arange(20,200,50).astype(int),\n",
    "              'learning_rate': [0.001, 0.01, 0.1],\n",
    "               'colsample_bytree' : [0.5, 0.7, 0.9],\n",
    "               'subsample':[0.5, 0.7, 0.9],\n",
    "               'lambda_l2': [0.001, 0.01, 0.1]\n",
    "              }\n",
    "\n",
    "cv = RepeatedStratifiedKFold(n_splits=5, n_repeats=2, random_state=4)\n",
    "\n",
    "rs_lgbm = RandomizedSearchCV(lgbm, param_grid3, cv=cv, n_iter=10,random_state=5, \n",
    "                            verbose=3,scoring='neg_log_loss', n_jobs=-1)\n",
    "            \n",
    "best_lgbm = optimize_params(train, train_labels, rs_lgbm)"
   ]
  },
  {
   "cell_type": "markdown",
   "metadata": {},
   "source": [
    "## Model Evaluation & Metrics"
   ]
  },
  {
   "cell_type": "code",
   "execution_count": 175,
   "metadata": {},
   "outputs": [
    {
     "name": "stderr",
     "output_type": "stream",
     "text": [
      "/opt/anaconda3/lib/python3.8/site-packages/sklearn/metrics/_classification.py:1221: UndefinedMetricWarning: Precision is ill-defined and being set to 0.0 due to no predicted samples. Use `zero_division` parameter to control this behavior.\n",
      "  _warn_prf(average, modifier, msg_start, len(result))\n"
     ]
    }
   ],
   "source": [
    "# Create Predictions and Evaluate Models on Test Data\n",
    "\n",
    "model_types = ['Dummy','Random Forest', 'Logistic Regression', 'Extreme Gradient Boosted Machine',\n",
    "              'Light Gradient Boosted Machine']\n",
    "\n",
    "models = [dummy, best_rf, best_log, best_xgb, best_lgbm]\n",
    "model_metrics = defaultdict(list)\n",
    "\n",
    "for model, model_type in zip(models, model_types):\n",
    "    preds = model.predict(test)\n",
    "    probs = model.predict_proba(test)\n",
    "    acc = accuracy_score(test_labels, preds)\n",
    "    recall = recall_score(test_labels, preds, average='binary')\n",
    "    prec = precision_score(test_labels, preds, average='binary')\n",
    "    f1 = f1_score(test_labels, preds)\n",
    "    auc = roc_auc_score(test_labels, probs[:,1])\n",
    "    loss = log_loss(test_labels, probs)\n",
    "    metrics = [acc, prec, recall, f1, auc, loss]\n",
    "    model_metrics[model_type] = metrics"
   ]
  },
  {
   "cell_type": "code",
   "execution_count": 176,
   "metadata": {},
   "outputs": [
    {
     "data": {
      "text/html": [
       "<div>\n",
       "<style scoped>\n",
       "    .dataframe tbody tr th:only-of-type {\n",
       "        vertical-align: middle;\n",
       "    }\n",
       "\n",
       "    .dataframe tbody tr th {\n",
       "        vertical-align: top;\n",
       "    }\n",
       "\n",
       "    .dataframe thead th {\n",
       "        text-align: right;\n",
       "    }\n",
       "</style>\n",
       "<table border=\"1\" class=\"dataframe\">\n",
       "  <thead>\n",
       "    <tr style=\"text-align: right;\">\n",
       "      <th></th>\n",
       "      <th>Dummy</th>\n",
       "      <th>Random Forest</th>\n",
       "      <th>Logistic Regression</th>\n",
       "      <th>Extreme Gradient Boosted Machine</th>\n",
       "      <th>Light Gradient Boosted Machine</th>\n",
       "    </tr>\n",
       "  </thead>\n",
       "  <tbody>\n",
       "    <tr>\n",
       "      <th>Accuracy</th>\n",
       "      <td>0.774350</td>\n",
       "      <td>0.762565</td>\n",
       "      <td>0.717331</td>\n",
       "      <td>0.759445</td>\n",
       "      <td>0.770017</td>\n",
       "    </tr>\n",
       "    <tr>\n",
       "      <th>Precision</th>\n",
       "      <td>0.000000</td>\n",
       "      <td>0.449102</td>\n",
       "      <td>0.388475</td>\n",
       "      <td>0.450231</td>\n",
       "      <td>0.482711</td>\n",
       "    </tr>\n",
       "    <tr>\n",
       "      <th>Recall</th>\n",
       "      <td>0.000000</td>\n",
       "      <td>0.230415</td>\n",
       "      <td>0.440092</td>\n",
       "      <td>0.298771</td>\n",
       "      <td>0.268049</td>\n",
       "    </tr>\n",
       "    <tr>\n",
       "      <th>F1 Score</th>\n",
       "      <td>0.000000</td>\n",
       "      <td>0.304569</td>\n",
       "      <td>0.412676</td>\n",
       "      <td>0.359187</td>\n",
       "      <td>0.344691</td>\n",
       "    </tr>\n",
       "    <tr>\n",
       "      <th>ROC AUC</th>\n",
       "      <td>0.500000</td>\n",
       "      <td>0.670399</td>\n",
       "      <td>0.676908</td>\n",
       "      <td>0.681124</td>\n",
       "      <td>0.687023</td>\n",
       "    </tr>\n",
       "    <tr>\n",
       "      <th>Log Loss</th>\n",
       "      <td>7.793672</td>\n",
       "      <td>0.514839</td>\n",
       "      <td>0.575393</td>\n",
       "      <td>0.553439</td>\n",
       "      <td>0.532535</td>\n",
       "    </tr>\n",
       "  </tbody>\n",
       "</table>\n",
       "</div>"
      ],
      "text/plain": [
       "              Dummy  Random Forest  Logistic Regression  \\\n",
       "Accuracy   0.774350       0.762565             0.717331   \n",
       "Precision  0.000000       0.449102             0.388475   \n",
       "Recall     0.000000       0.230415             0.440092   \n",
       "F1 Score   0.000000       0.304569             0.412676   \n",
       "ROC AUC    0.500000       0.670399             0.676908   \n",
       "Log Loss   7.793672       0.514839             0.575393   \n",
       "\n",
       "           Extreme Gradient Boosted Machine  Light Gradient Boosted Machine  \n",
       "Accuracy                           0.759445                        0.770017  \n",
       "Precision                          0.450231                        0.482711  \n",
       "Recall                             0.298771                        0.268049  \n",
       "F1 Score                           0.359187                        0.344691  \n",
       "ROC AUC                            0.681124                        0.687023  \n",
       "Log Loss                           0.553439                        0.532535  "
      ]
     },
     "execution_count": 176,
     "metadata": {},
     "output_type": "execute_result"
    }
   ],
   "source": [
    "model_metrics_df = pd.DataFrame(model_metrics)\n",
    "model_metrics_df.index = ['Accuracy', 'Precision', 'Recall', 'F1 Score',\n",
    "                         'ROC AUC', 'Log Loss']\n",
    "model_metrics_df"
   ]
  },
  {
   "cell_type": "code",
   "execution_count": null,
   "metadata": {},
   "outputs": [],
   "source": []
  },
  {
   "cell_type": "markdown",
   "metadata": {},
   "source": [
    "## Visualization of Model Performance"
   ]
  },
  {
   "cell_type": "code",
   "execution_count": 177,
   "metadata": {},
   "outputs": [],
   "source": [
    "def plot_confusion_matrix(cm, classes,\n",
    "                          normalize=False,\n",
    "                          title='Confusion matrix',\n",
    "                          cmap=plt.cm.Blues):\n",
    "    \"\"\"\n",
    "    This function prints and plots the confusion matrix.\n",
    "    Normalization can be applied by setting `normalize=True`.\n",
    "    \"\"\"\n",
    "    if normalize:\n",
    "        cm = cm.astype('float') / cm.sum(axis=1)[:, np.newaxis]\n",
    "        print(\"Normalized confusion matrix\")\n",
    "    else:\n",
    "        print('Confusion matrix, without normalization')\n",
    "\n",
    "    # print(cm)\n",
    "\n",
    "    plt.imshow(cm, interpolation='nearest', cmap=cmap)\n",
    "    plt.title(title)\n",
    "    plt.colorbar()\n",
    "    tick_marks = np.arange(len(classes))\n",
    "    plt.xticks(tick_marks, classes, rotation=90)\n",
    "    plt.yticks(tick_marks, classes)\n",
    "\n",
    "    fmt = '.2f' if normalize else 'd'\n",
    "    thresh = cm.max() / 2.\n",
    "    for i, j in itertools.product(range(cm.shape[0]), range(cm.shape[1])):\n",
    "        plt.text(j, i, format(cm[i, j], fmt),\n",
    "                 horizontalalignment=\"center\",\n",
    "                 color=\"white\" if cm[i, j] > thresh else \"black\")\n",
    "\n",
    "    plt.tight_layout()\n",
    "    plt.ylabel('True label')\n",
    "    plt.xlabel('Predicted label')\n",
    "    fig = plt.gcf()\n",
    "    fig.set_size_inches(7,7)\n",
    "    plt.show()"
   ]
  },
  {
   "cell_type": "code",
   "execution_count": 178,
   "metadata": {},
   "outputs": [],
   "source": [
    "def getImportances(feature_importances):\n",
    "    top_importances = []\n",
    "    top_features_list = []\n",
    "\n",
    "    for x,y in feature_importances:\n",
    "        if(y > 0.025):\n",
    "            top_features_list.append(x)\n",
    "            top_importances.append(y)\n",
    "    return top_features_list, top_importances"
   ]
  },
  {
   "cell_type": "code",
   "execution_count": 179,
   "metadata": {},
   "outputs": [],
   "source": [
    "def plotImportances(top_importances, top_features_list, model_type, color):\n",
    "    x_values = list(range(len(top_importances)))\n",
    "    plt.bar(x_values, top_importances, orientation= 'vertical', color=color)\n",
    "    plt.xticks(x_values, top_features_list, rotation = 'vertical')\n",
    "    plt.ylabel('Importance')\n",
    "    plt.xlabel('Variable')\n",
    "    plt.title('Top Variable Importances: {0}'.format(model_type))\n",
    "    fig = plt.gcf()\n",
    "    fig.set_size_inches(7,7)\n",
    "    plt.show()"
   ]
  },
  {
   "cell_type": "code",
   "execution_count": 180,
   "metadata": {},
   "outputs": [
    {
     "data": {
      "image/png": "[encoded data removed]",
      "text/plain": [
       "<Figure size 864x576 with 1 Axes>"
      ]
     },
     "metadata": {},
     "output_type": "display_data"
    }
   ],
   "source": [
    "# ROC AUC\n",
    "\n",
    "i = 0\n",
    "\n",
    "for model, model_type in zip(models, model_types):\n",
    "    if i == 0:\n",
    "        disp = plot_roc_curve(model, test, test_labels)\n",
    "        axis = disp.ax_\n",
    "    else:\n",
    "        new_disp = plot_roc_curve(model, test, test_labels, ax=axis)\n",
    "    i+=1\n",
    "    \n",
    "new_disp.figure_.suptitle(\"ROC Curve Comparison\")\n",
    "fig=plt.gcf()\n",
    "fig.set_size_inches(12,8)\n",
    "plt.show()"
   ]
  },
  {
   "cell_type": "code",
   "execution_count": 181,
   "metadata": {},
   "outputs": [
    {
     "data": {
      "image/png": "[encoded data removed]",
      "text/plain": [
       "<Figure size 720x720 with 2 Axes>"
      ]
     },
     "metadata": {},
     "output_type": "display_data"
    },
    {
     "data": {
      "image/png": "[encoded data removed]",
      "text/plain": [
       "<Figure size 720x720 with 2 Axes>"
      ]
     },
     "metadata": {},
     "output_type": "display_data"
    },
    {
     "data": {
      "image/png": "[encoded data removed]",
      "text/plain": [
       "<Figure size 720x720 with 2 Axes>"
      ]
     },
     "metadata": {},
     "output_type": "display_data"
    },
    {
     "data": {
      "image/png": "[encoded data removed]",
      "text/plain": [
       "<Figure size 720x720 with 2 Axes>"
      ]
     },
     "metadata": {},
     "output_type": "display_data"
    },
    {
     "data": {
      "image/png": "[encoded data removed]",
      "text/plain": [
       "<Figure size 720x720 with 2 Axes>"
      ]
     },
     "metadata": {},
     "output_type": "display_data"
    }
   ],
   "source": [
    "# Confusion Matrices\n",
    "\n",
    "classes = ['Yes', 'No']\n",
    "\n",
    "cmaps = [plt.cm.Reds, plt.cm.Blues, plt.cm.Oranges, plt.cm.Greens, plt.cm.Purples]\n",
    "\n",
    "for model, model_type, cmap in zip(models, model_types, cmaps):\n",
    "    plot_cm(model, test, test_labels, display_labels=classes, \n",
    "            cmap=cmap)\n",
    "    plt.title(f'Confusion Matrix: {model_type}')\n",
    "    fig = plt.gcf()\n",
    "    fig.set_size_inches(10,10)\n",
    "    plt.show()"
   ]
  },
  {
   "cell_type": "code",
   "execution_count": 182,
   "metadata": {},
   "outputs": [
    {
     "data": {
      "image/png": "[encoded data removed]",
      "text/plain": [
       "<Figure size 504x504 with 1 Axes>"
      ]
     },
     "metadata": {},
     "output_type": "display_data"
    },
    {
     "data": {
      "image/png": "[encoded data removed]",
      "text/plain": [
       "<Figure size 864x576 with 1 Axes>"
      ]
     },
     "metadata": {},
     "output_type": "display_data"
    },
    {
     "data": {
      "image/png": "[encoded data removed]",
      "text/plain": [
       "<Figure size 504x504 with 1 Axes>"
      ]
     },
     "metadata": {},
     "output_type": "display_data"
    },
    {
     "data": {
      "image/png": "[encoded data removed]",
      "text/plain": [
       "<Figure size 504x504 with 1 Axes>"
      ]
     },
     "metadata": {},
     "output_type": "display_data"
    }
   ],
   "source": [
    "# Feature Importances\n",
    "\n",
    "xgb_rf = ['Random Forest', 'Extreme Gradient Boosted Machine']\n",
    "colors=['black', 'red', 'green', 'blue', 'cyan']\n",
    "\n",
    "for model, model_type, color in zip(models, model_types, colors):\n",
    "    if model_type == 'Light Gradient Boosted Machine':\n",
    "        lgbm_importances = model.booster_.feature_importance(importance_type='gain')/sum(model.booster_.feature_importance(importance_type='gain'))\n",
    "        importances = list(lgbm_importances)\n",
    "        feature_list = list(X.columns)\n",
    "        feature_importances = [(feature, importance) for feature, importance in \n",
    "                               zip(feature_list,importances)]\n",
    "        feature_importances_ = sorted(feature_importances, key = lambda x: x[1], reverse=True)\n",
    "        top_features_list, top_importances = getImportances(feature_importances_)\n",
    "        plotImportances(top_importances, top_features_list, model_type, color)\n",
    "\n",
    "    elif model_type in xgb_rf:\n",
    "        importances = list(model.feature_importances_)\n",
    "        feature_list = list(X.columns)\n",
    "        feature_importances = [(feature, importance) for feature, importance in \n",
    "                               zip(feature_list,importances)]\n",
    "        feature_importances_ = sorted(feature_importances, key = lambda x: x[1], reverse=True)\n",
    "        top_features_list, top_importances = getImportances(feature_importances_)\n",
    "        plotImportances(top_importances, top_features_list, model_type, color)\n",
    "        \n",
    "    elif model_type == 'Logistic Regression':\n",
    "        importances = pd.DataFrame(data={'Attribute': X.columns,\n",
    "                                         'Importance': model.coef_[0]})\n",
    "        importances = importances.sort_values(by='Importance', ascending=False)\n",
    "        plt.bar(x=importances['Attribute'], height=importances['Importance'], color=color)\n",
    "        plt.title('Feature Importances Obtained From Coefficients: Logistic Regression')\n",
    "        fig=plt.gcf()\n",
    "        fig.set_size_inches(12,8)\n",
    "        plt.xticks(rotation='vertical')\n",
    "        plt.show()\n",
    "    \n",
    "    else:\n",
    "        continue\n",
    "        \n",
    "        "
   ]
  },
  {
   "cell_type": "code",
   "execution_count": null,
   "metadata": {},
   "outputs": [],
   "source": []
  },
  {
   "cell_type": "code",
   "execution_count": null,
   "metadata": {},
   "outputs": [],
   "source": []
  },
  {
   "cell_type": "code",
   "execution_count": null,
   "metadata": {},
   "outputs": [],
   "source": []
  },
  {
   "cell_type": "code",
   "execution_count": null,
   "metadata": {},
   "outputs": [],
   "source": []
  },
  {
   "cell_type": "code",
   "execution_count": null,
   "metadata": {},
   "outputs": [],
   "source": []
  },
  {
   "cell_type": "code",
   "execution_count": null,
   "metadata": {},
   "outputs": [],
   "source": []
  },
  {
   "cell_type": "code",
   "execution_count": null,
   "metadata": {},
   "outputs": [],
   "source": []
  },
  {
   "cell_type": "code",
   "execution_count": null,
   "metadata": {},
   "outputs": [],
   "source": []
  }
 ],
 "metadata": {
  "kernelspec": {
   "display_name": "Python 3",
   "language": "python",
   "name": "python3"
  },
  "language_info": {
   "codemirror_mode": {
    "name": "ipython",
    "version": 3
   },
   "file_extension": ".py",
   "mimetype": "text/x-python",
   "name": "python",
   "nbconvert_exporter": "python",
   "pygments_lexer": "ipython3",
   "version": "3.8.3"
  }
 },
 "nbformat": 4,
 "nbformat_minor": 4
}
